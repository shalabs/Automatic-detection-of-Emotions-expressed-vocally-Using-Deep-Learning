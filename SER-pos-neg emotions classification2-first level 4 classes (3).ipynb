{
 "cells": [
  {
   "cell_type": "code",
   "execution_count": 1,
   "metadata": {},
   "outputs": [
    {
     "name": "stderr",
     "output_type": "stream",
     "text": [
      "Using TensorFlow backend.\n"
     ]
    }
   ],
   "source": [
    "#keras\n",
    "\n",
    "import tensorflow.keras\n",
    "from keras import regularizers\n",
    "from tensorflow.keras.preprocessing import sequence\n",
    "from tensorflow.keras.preprocessing.text import Tokenizer\n",
    "from tensorflow.keras.preprocessing.sequence import pad_sequences\n",
    "from tensorflow.keras.models import Sequential, Model, model_from_json\n",
    "from tensorflow.keras.layers import Dense, Embedding, LSTM\n",
    "from tensorflow.keras.layers import Input, Flatten, Dropout, Activation, BatchNormalization\n",
    "from tensorflow.keras.layers import Conv1D, MaxPooling1D, AveragePooling1D\n",
    "from keras.utils import np_utils, to_categorical\n",
    "from tensorflow.keras.callbacks import (EarlyStopping, LearningRateScheduler,\n",
    "                             ModelCheckpoint, TensorBoard, ReduceLROnPlateau)\n",
    "from tensorflow.keras import losses, models, optimizers\n",
    "from tensorflow.keras.activations import relu, softmax\n",
    "from tensorflow.keras.layers import (Convolution2D, GlobalAveragePooling2D, BatchNormalization, Flatten, Dropout,\n",
    "                          GlobalMaxPool2D, MaxPool2D, concatenate, Activation, Input, Dense)\n",
    "\n",
    "# sklearn\n",
    "\n",
    "from sklearn.metrics import confusion_matrix\n",
    "from sklearn.model_selection import train_test_split\n",
    "from sklearn.preprocessing import LabelEncoder\n",
    "from sklearn.metrics import precision_score\n",
    "from sklearn.metrics import recall_score\n",
    "from sklearn.metrics import f1_score\n",
    "from sklearn.metrics import accuracy_score\n",
    "\n",
    "\n",
    "# Other  \n",
    "from tqdm import tqdm, tqdm_pandas\n",
    "import scipy\n",
    "from scipy.stats import skew\n",
    "import librosa\n",
    "import librosa.display\n",
    "import json\n",
    "import numpy as np\n",
    "import matplotlib.pyplot as plt\n",
    "import tensorflow as tf\n",
    "from matplotlib.pyplot import specgram\n",
    "import pandas as pd\n",
    "import seaborn as sns\n",
    "import glob \n",
    "import os\n",
    "import sys\n",
    "import IPython.display as ipd  # To play sound in the notebook\n",
    "import warnings\n",
    "# ignore warnings \n",
    "if not sys.warnoptions:\n",
    "    warnings.simplefilter(\"ignore\")"
   ]
  },
  {
   "cell_type": "code",
   "execution_count": 2,
   "metadata": {},
   "outputs": [],
   "source": [
    "from tensorflow.compat.v1 import ConfigProto\n",
    "from tensorflow.compat.v1 import InteractiveSession\n",
    "\n",
    "config = ConfigProto()\n",
    "config.gpu_options.allow_growth = True\n",
    "session = InteractiveSession(config=config)"
   ]
  },
  {
   "cell_type": "code",
   "execution_count": 3,
   "metadata": {},
   "outputs": [
    {
     "data": {
      "text/plain": [
       "female_calm        144\n",
       "male_calm          144\n",
       "male_fear           96\n",
       "female_happy        96\n",
       "female_fear         96\n",
       "male_surprise       96\n",
       "female_sad          96\n",
       "male_disgust        96\n",
       "female_angry        96\n",
       "female_surprise     96\n",
       "male_sad            96\n",
       "male_happy          96\n",
       "male_angry          96\n",
       "female_disgust      96\n",
       "Name: labels, dtype: int64"
      ]
     },
     "execution_count": 3,
     "metadata": {},
     "output_type": "execute_result"
    }
   ],
   "source": [
    "dir_list = os.listdir(\"/Users/shaha/Downloads/ravdess-emotional-speech-audio/audio_speech_actors_01-24\")\n",
    "RAV=\"/Users/shaha/Downloads/ravdess-emotional-speech-audio/audio_speech_actors_01-24/\"\n",
    "dir_list.sort()\n",
    "\n",
    "emotion = []\n",
    "gender = []\n",
    "path = []\n",
    "for i in dir_list:\n",
    "    fname = os.listdir(RAV + i)\n",
    "    for f in fname:\n",
    "        part = f.split('.')[0].split('-')\n",
    "        emotion.append(int(part[2]))\n",
    "        temp = int(part[6])\n",
    "        if temp%2 == 0:\n",
    "            temp = \"female\"\n",
    "        else:\n",
    "            temp = \"male\"\n",
    "        gender.append(temp)\n",
    "        path.append(RAV + i + '/' + f)\n",
    "\n",
    "        \n",
    "RAV_df = pd.DataFrame(emotion)\n",
    "#neutral means calm in my world !!!\n",
    "RAV_df = RAV_df.replace({1:'calm', 2:'calm', 3:'happy', 4:'sad', 5:'angry', 6:'fear', 7:'disgust', 8:'surprise'})\n",
    "#RAV_df = RAV_df.replace({1:'positive', 2:'positive', 3:'positive', 4:'negative', 5:'negative', 6:'negative', 7:'negative', 8:'positive'})\n",
    "RAV_df = pd.concat([pd.DataFrame(gender),RAV_df],axis=1)\n",
    "RAV_df.columns = ['gender','emotion']\n",
    "RAV_df['labels'] =RAV_df.gender + '_' + RAV_df.emotion\n",
    "#RAV_df['source'] = 'RAVDESS'  \n",
    "RAV_df = pd.concat([RAV_df,pd.DataFrame(path, columns = ['path'])],axis=1)\n",
    "#RAV_df = RAV_df.drop(['gender', 'emotion'], axis=1)\n",
    "RAV_df.labels.value_counts()"
   ]
  },
  {
   "cell_type": "code",
   "execution_count": 4,
   "metadata": {},
   "outputs": [
    {
     "name": "stdout",
     "output_type": "stream",
     "text": [
      "1440\n"
     ]
    }
   ],
   "source": [
    "length=len(RAV_df)\n",
    "print(length)\n",
    "#RAV_df['label']"
   ]
  },
  {
   "cell_type": "code",
   "execution_count": 6,
   "metadata": {},
   "outputs": [],
   "source": [
    "RAV_df['label']=0"
   ]
  },
  {
   "cell_type": "code",
   "execution_count": 7,
   "metadata": {},
   "outputs": [],
   "source": [
    "length=len(RAV_df)\n",
    "\n",
    "for i in range (length):\n",
    "    if(RAV_df.iloc[i,2]=='female_calm' or RAV_df.iloc[i,2]=='female_happy' or RAV_df.iloc[i,2]=='female_surprise'):\n",
    "        RAV_df['label'].iloc[i]='female_positive'\n",
    "    elif(RAV_df.iloc[i,2]=='female_sad' or RAV_df.iloc[i,2]=='female_angry' or RAV_df.iloc[i,2]=='female_fear' or RAV_df.iloc[i,2]=='female_disgust'):\n",
    "        RAV_df['label'].iloc[i]='female_negative'\n",
    "    elif(RAV_df.iloc[i,2]=='male_sad' or RAV_df.iloc[i,2]=='male_angry' or RAV_df.iloc[i,2]=='male_fear' or RAV_df.iloc[i,2]=='male_disgust'):\n",
    "        RAV_df['label'].iloc[i]='male_negative'\n",
    "    else:\n",
    "        RAV_df['label'].iloc[i]='male_positive'"
   ]
  },
  {
   "cell_type": "code",
   "execution_count": 8,
   "metadata": {},
   "outputs": [
    {
     "data": {
      "text/html": [
       "<div>\n",
       "<style scoped>\n",
       "    .dataframe tbody tr th:only-of-type {\n",
       "        vertical-align: middle;\n",
       "    }\n",
       "\n",
       "    .dataframe tbody tr th {\n",
       "        vertical-align: top;\n",
       "    }\n",
       "\n",
       "    .dataframe thead th {\n",
       "        text-align: right;\n",
       "    }\n",
       "</style>\n",
       "<table border=\"1\" class=\"dataframe\">\n",
       "  <thead>\n",
       "    <tr style=\"text-align: right;\">\n",
       "      <th></th>\n",
       "      <th>gender</th>\n",
       "      <th>emotion</th>\n",
       "      <th>labels</th>\n",
       "      <th>path</th>\n",
       "      <th>label</th>\n",
       "    </tr>\n",
       "  </thead>\n",
       "  <tbody>\n",
       "    <tr>\n",
       "      <td>0</td>\n",
       "      <td>male</td>\n",
       "      <td>calm</td>\n",
       "      <td>male_calm</td>\n",
       "      <td>/Users/shaha/Downloads/ravdess-emotional-speec...</td>\n",
       "      <td>male_positive</td>\n",
       "    </tr>\n",
       "    <tr>\n",
       "      <td>1</td>\n",
       "      <td>male</td>\n",
       "      <td>calm</td>\n",
       "      <td>male_calm</td>\n",
       "      <td>/Users/shaha/Downloads/ravdess-emotional-speec...</td>\n",
       "      <td>male_positive</td>\n",
       "    </tr>\n",
       "    <tr>\n",
       "      <td>2</td>\n",
       "      <td>male</td>\n",
       "      <td>calm</td>\n",
       "      <td>male_calm</td>\n",
       "      <td>/Users/shaha/Downloads/ravdess-emotional-speec...</td>\n",
       "      <td>male_positive</td>\n",
       "    </tr>\n",
       "    <tr>\n",
       "      <td>3</td>\n",
       "      <td>male</td>\n",
       "      <td>calm</td>\n",
       "      <td>male_calm</td>\n",
       "      <td>/Users/shaha/Downloads/ravdess-emotional-speec...</td>\n",
       "      <td>male_positive</td>\n",
       "    </tr>\n",
       "    <tr>\n",
       "      <td>4</td>\n",
       "      <td>male</td>\n",
       "      <td>calm</td>\n",
       "      <td>male_calm</td>\n",
       "      <td>/Users/shaha/Downloads/ravdess-emotional-speec...</td>\n",
       "      <td>male_positive</td>\n",
       "    </tr>\n",
       "    <tr>\n",
       "      <td>...</td>\n",
       "      <td>...</td>\n",
       "      <td>...</td>\n",
       "      <td>...</td>\n",
       "      <td>...</td>\n",
       "      <td>...</td>\n",
       "    </tr>\n",
       "    <tr>\n",
       "      <td>1435</td>\n",
       "      <td>female</td>\n",
       "      <td>surprise</td>\n",
       "      <td>female_surprise</td>\n",
       "      <td>/Users/shaha/Downloads/ravdess-emotional-speec...</td>\n",
       "      <td>female_positive</td>\n",
       "    </tr>\n",
       "    <tr>\n",
       "      <td>1436</td>\n",
       "      <td>female</td>\n",
       "      <td>surprise</td>\n",
       "      <td>female_surprise</td>\n",
       "      <td>/Users/shaha/Downloads/ravdess-emotional-speec...</td>\n",
       "      <td>female_positive</td>\n",
       "    </tr>\n",
       "    <tr>\n",
       "      <td>1437</td>\n",
       "      <td>female</td>\n",
       "      <td>surprise</td>\n",
       "      <td>female_surprise</td>\n",
       "      <td>/Users/shaha/Downloads/ravdess-emotional-speec...</td>\n",
       "      <td>female_positive</td>\n",
       "    </tr>\n",
       "    <tr>\n",
       "      <td>1438</td>\n",
       "      <td>female</td>\n",
       "      <td>surprise</td>\n",
       "      <td>female_surprise</td>\n",
       "      <td>/Users/shaha/Downloads/ravdess-emotional-speec...</td>\n",
       "      <td>female_positive</td>\n",
       "    </tr>\n",
       "    <tr>\n",
       "      <td>1439</td>\n",
       "      <td>female</td>\n",
       "      <td>surprise</td>\n",
       "      <td>female_surprise</td>\n",
       "      <td>/Users/shaha/Downloads/ravdess-emotional-speec...</td>\n",
       "      <td>female_positive</td>\n",
       "    </tr>\n",
       "  </tbody>\n",
       "</table>\n",
       "<p>1440 rows × 5 columns</p>\n",
       "</div>"
      ],
      "text/plain": [
       "      gender   emotion           labels  \\\n",
       "0       male      calm        male_calm   \n",
       "1       male      calm        male_calm   \n",
       "2       male      calm        male_calm   \n",
       "3       male      calm        male_calm   \n",
       "4       male      calm        male_calm   \n",
       "...      ...       ...              ...   \n",
       "1435  female  surprise  female_surprise   \n",
       "1436  female  surprise  female_surprise   \n",
       "1437  female  surprise  female_surprise   \n",
       "1438  female  surprise  female_surprise   \n",
       "1439  female  surprise  female_surprise   \n",
       "\n",
       "                                                   path            label  \n",
       "0     /Users/shaha/Downloads/ravdess-emotional-speec...    male_positive  \n",
       "1     /Users/shaha/Downloads/ravdess-emotional-speec...    male_positive  \n",
       "2     /Users/shaha/Downloads/ravdess-emotional-speec...    male_positive  \n",
       "3     /Users/shaha/Downloads/ravdess-emotional-speec...    male_positive  \n",
       "4     /Users/shaha/Downloads/ravdess-emotional-speec...    male_positive  \n",
       "...                                                 ...              ...  \n",
       "1435  /Users/shaha/Downloads/ravdess-emotional-speec...  female_positive  \n",
       "1436  /Users/shaha/Downloads/ravdess-emotional-speec...  female_positive  \n",
       "1437  /Users/shaha/Downloads/ravdess-emotional-speec...  female_positive  \n",
       "1438  /Users/shaha/Downloads/ravdess-emotional-speec...  female_positive  \n",
       "1439  /Users/shaha/Downloads/ravdess-emotional-speec...  female_positive  \n",
       "\n",
       "[1440 rows x 5 columns]"
      ]
     },
     "execution_count": 8,
     "metadata": {},
     "output_type": "execute_result"
    }
   ],
   "source": [
    "RAV_df"
   ]
  },
  {
   "cell_type": "code",
   "execution_count": 9,
   "metadata": {},
   "outputs": [],
   "source": [
    "'''\n",
    "1. Data Augmentation method   \n",
    "'''\n",
    "def speedNpitch(data):\n",
    "    \"\"\"\n",
    "    Speed and Pitch Tuning.\n",
    "    \"\"\"\n",
    "    # you can change low and high here\n",
    "    length_change = np.random.uniform(low=0.8, high = 1)\n",
    "    speed_fac = 1.2  / length_change # try changing 1.0 to 2.0 ... =D\n",
    "    tmp = np.interp(np.arange(0,len(data),speed_fac),np.arange(0,len(data)),data)\n",
    "    minlen = min(data.shape[0], tmp.shape[0])\n",
    "    data *= 0\n",
    "    data[0:minlen] = tmp[0:minlen]\n",
    "    return data\n",
    "\n",
    "'''\n",
    "2. Extracting the MFCC feature as an image (Matrix format).  \n",
    "'''\n",
    "def prepare_data(df, n, aug, mfcc):\n",
    "    X = np.empty(shape=(df.shape[0], n, 216, 1))\n",
    "    input_length = sampling_rate * audio_duration\n",
    "    \n",
    "    cnt = 0\n",
    "    for fname in tqdm(df.path):\n",
    "        file_path = fname\n",
    "        data, _ = librosa.load(file_path, sr=sampling_rate\n",
    "                               ,res_type=\"kaiser_fast\"\n",
    "                               ,duration=2.5\n",
    "                               ,offset=0.5\n",
    "                              )\n",
    "\n",
    "        # Random offset / Padding\n",
    "        if len(data) > input_length:\n",
    "            max_offset = len(data) - input_length\n",
    "            offset = np.random.randint(max_offset)\n",
    "            data = data[offset:(input_length+offset)]\n",
    "        else:\n",
    "            if input_length > len(data):\n",
    "                max_offset = input_length - len(data)\n",
    "                offset = np.random.randint(max_offset)\n",
    "            else:\n",
    "                offset = 0\n",
    "            data = np.pad(data, (offset, int(input_length) - len(data) - offset), \"constant\")\n",
    "\n",
    "        # Augmentation? \n",
    "        if aug == 1:\n",
    "            data = speedNpitch(data)\n",
    "        \n",
    "        # which feature?\n",
    "        if mfcc == 1:\n",
    "            # MFCC extraction \n",
    "            MFCC = librosa.feature.mfcc(data, sr=sampling_rate, n_mfcc=n_mfcc)\n",
    "            MFCC = np.expand_dims(MFCC, axis=-1)\n",
    "            X[cnt,] = MFCC\n",
    "            \n",
    "        else:\n",
    "            # Log-melspectogram\n",
    "            melspec = librosa.feature.melspectrogram(data, n_mels = n_melspec)   \n",
    "            logspec = librosa.amplitude_to_db(melspec)\n",
    "            logspec = np.expand_dims(logspec, axis=-1)\n",
    "            X[cnt,] = logspec\n",
    "            \n",
    "        cnt += 1\n",
    "    \n",
    "    return X\n",
    "\n",
    "\n",
    "'''\n",
    "3. Confusion matrix plot \n",
    "'''        \n",
    "def print_confusion_matrix(confusion_matrix, class_names, figsize = (10,7), fontsize=14):\n",
    "    '''Prints a confusion matrix, as returned by sklearn.metrics.confusion_matrix, as a heatmap.\n",
    "\n",
    "    Arguments\n",
    "    ---------\n",
    "    confusion_matrix: numpy.ndarray\n",
    "        The numpy.ndarray object returned from a call to sklearn.metrics.confusion_matrix. \n",
    "        Similarly constructed ndarrays can also be used.\n",
    "    class_names: list\n",
    "        An ordered list of class names, in the order they index the given confusion matrix.\n",
    "    figsize: tuple\n",
    "        A 2-long tuple, the first value determining the horizontal size of the ouputted figure,\n",
    "        the second determining the vertical size. Defaults to (10,7).\n",
    "    fontsize: int\n",
    "        Font size for axes labels. Defaults to 14.\n",
    "\n",
    "    Returns\n",
    "    -------\n",
    "    matplotlib.figure.Figure\n",
    "        The resulting confusion matrix figure\n",
    "    '''\n",
    "    df_cm = pd.DataFrame(\n",
    "        confusion_matrix, index=class_names, columns=class_names, \n",
    "    )\n",
    "    fig = plt.figure(figsize=figsize)\n",
    "    try:\n",
    "        heatmap = sns.heatmap(df_cm, annot=True, fmt=\"d\")\n",
    "    except ValueError:\n",
    "        raise ValueError(\"Confusion matrix values must be integers.\")\n",
    "\n",
    "    heatmap.yaxis.set_ticklabels(heatmap.yaxis.get_ticklabels(), rotation=0, ha='right', fontsize=fontsize)\n",
    "    heatmap.xaxis.set_ticklabels(heatmap.xaxis.get_ticklabels(), rotation=45, ha='right', fontsize=fontsize)\n",
    "    plt.ylabel('True label')\n",
    "    plt.xlabel('Predicted label')\n",
    "\n",
    "    \n",
    "    \n",
    "'''\n",
    "# 4. Create the 2D CNN model \n",
    "'''\n",
    "def get_2d_conv_model(n):\n",
    "    ''' Create a standard deep 2D convolutional neural network'''\n",
    "    nclass = 9\n",
    "    inp = Input(shape=(n,216,1))  #2D matrix of 30 MFCC bands by 216 audio length.\n",
    "    x = Convolution2D(32, (4,10), padding=\"same\")(inp)\n",
    "    x = BatchNormalization()(x)\n",
    "    x = Activation(\"relu\")(x)\n",
    "    x = MaxPool2D()(x)\n",
    "    x = Dropout(rate=0.2)(x)\n",
    "    \n",
    "    x = Convolution2D(32, (4,10), padding=\"same\")(x)\n",
    "    x = BatchNormalization()(x)\n",
    "    x = Activation(\"relu\")(x)\n",
    "    x = MaxPool2D()(x)\n",
    "    x = Dropout(rate=0.2)(x)\n",
    "    \n",
    "    x = Convolution2D(32, (4,10), padding=\"same\")(x)\n",
    "    x = BatchNormalization()(x)\n",
    "    x = Activation(\"relu\")(x)\n",
    "    x = MaxPool2D()(x)\n",
    "    x = Dropout(rate=0.2)(x)\n",
    "    \n",
    "    x = Convolution2D(32, (4,10), padding=\"same\")(x)\n",
    "    x = BatchNormalization()(x)\n",
    "    x = Activation(\"relu\")(x)\n",
    "    x = MaxPool2D()(x)\n",
    "    x = Dropout(rate=0.2)(x)\n",
    "    \n",
    "    x = Flatten()(x)\n",
    "    x = Dense(64)(x)\n",
    "    x = Dropout(rate=0.2)(x)\n",
    "    x = BatchNormalization()(x)\n",
    "    x = Activation(\"relu\")(x)\n",
    "    x = Dropout(rate=0.2)(x)\n",
    "    \n",
    "    out = Dense(nclass, activation=softmax)(x)\n",
    "    model = models.Model(inputs=inp, outputs=out)\n",
    "    \n",
    "    opt = optimizers.Adam(0.001)\n",
    "    model.compile(optimizer='rmsprop', loss=losses.categorical_crossentropy, metrics=['acc'])\n",
    "    return model\n",
    "\n",
    "\n",
    "'''\n",
    "# 5. Other functions \n",
    "'''\n",
    "class get_results:\n",
    "    '''\n",
    "    We're going to create a class (blueprint template) for generating the results based on the various model approaches. \n",
    "    So instead of repeating the functions each time, we assign the results into on object with its associated variables \n",
    "    depending on each combination:\n",
    "        1) MFCC with no augmentation  \n",
    "        2) MFCC with augmentation \n",
    "        3) Logmelspec with no augmentation \n",
    "        4) Logmelspec with augmentation\n",
    "    '''\n",
    "    \n",
    "    def __init__(self, model_history, model ,X_test, y_test, labels):\n",
    "        self.model_history = model_history\n",
    "        self.model = model\n",
    "        self.X_test = X_test\n",
    "        self.y_test = y_test             \n",
    "        self.labels = labels\n",
    "\n",
    "    def create_plot(self, model_history):\n",
    "        '''Check the logloss of both train and validation, make sure they are close and have plateau'''\n",
    "        plt.plot(model_history.history['loss'])\n",
    "        plt.plot(model_history.history['val_loss'])\n",
    "        plt.title('model loss')\n",
    "        plt.ylabel('loss')\n",
    "        plt.xlabel('epoch')\n",
    "        plt.legend(['train', 'test'], loc='upper left')\n",
    "        plt.show()\n",
    "\n",
    "    def create_results(self, model):\n",
    "        '''predict on test set and get accuracy results'''\n",
    "        opt = optimizers.Adam(0.001)\n",
    "        model.compile(loss='categorical_crossentropy', optimizer=opt, metrics=['accuracy'])\n",
    "        score = model.evaluate(X_test, y_test, verbose=0)\n",
    "        print(\"%s: %.2f%%\" % (model.metrics_names[1], score[1]*100))\n",
    "\n",
    "    def confusion_results(self, X_test, y_test, labels, model):\n",
    "        '''plot confusion matrix results'''\n",
    "        preds = model.predict(X_test, \n",
    "                                 batch_size=16, \n",
    "                                 verbose=2)\n",
    "        preds=preds.argmax(axis=1)\n",
    "        preds = preds.astype(int).flatten()\n",
    "        preds = (lb.inverse_transform((preds)))\n",
    "\n",
    "        actual = y_test.argmax(axis=1)\n",
    "        actual = actual.astype(int).flatten()\n",
    "        actual = (lb.inverse_transform((actual)))\n",
    "\n",
    "        classes = labels\n",
    "        classes.sort()    \n",
    "\n",
    "        c = confusion_matrix(actual, preds)\n",
    "        pres1=precision_score(actual, preds, average='weighted')\n",
    "        print(\"Precision score = \", pres1)\n",
    "        rec1=recall_score(actual, preds, average='weighted')\n",
    "        print(\"Recall score = \", rec1)\n",
    "        f1s=f1_score(actual, preds, average='weighted')\n",
    "        print(\"F1 score = \", f1s)\n",
    "        print_confusion_matrix(c, class_names = classes)\n",
    "        \n",
    "    def accuracy_results_gender(self, X_test, y_test, labels, model):\n",
    "        '''Print out the accuracy score and confusion matrix heat map of the Gender classification results'''\n",
    "    \n",
    "        preds = model.predict(X_test, \n",
    "                         batch_size=16, \n",
    "                         verbose=2)\n",
    "        preds=preds.argmax(axis=1)\n",
    "        preds = preds.astype(int).flatten()\n",
    "        preds = (lb.inverse_transform((preds)))\n",
    "\n",
    "        actual = y_test.argmax(axis=1)\n",
    "        actual = actual.astype(int).flatten()\n",
    "        actual = (lb.inverse_transform((actual)))\n",
    "        \n",
    "        # print(accuracy_score(actual, preds))\n",
    "        \n",
    "        actual = pd.DataFrame(actual).replace({'female_angry':'female'\n",
    "                   , 'female_disgust':'female'\n",
    "                   , 'female_fear':'female'\n",
    "                   , 'female_happy':'female'\n",
    "                   , 'female_sad':'female'\n",
    "                   , 'female_surprise':'female'\n",
    "                   , 'female_neutral':'female'\n",
    "                   , 'male_angry':'male'\n",
    "                   , 'male_fear':'male'\n",
    "                   , 'male_happy':'male'\n",
    "                   , 'male_sad':'male'\n",
    "                   , 'male_surprise':'male'\n",
    "                   , 'male_neutral':'male'\n",
    "                   , 'male_disgust':'male'\n",
    "                  })\n",
    "        preds = pd.DataFrame(preds).replace({'female_angry':'female'\n",
    "               , 'female_disgust':'female'\n",
    "               , 'female_fear':'female'\n",
    "               , 'female_happy':'female'\n",
    "               , 'female_sad':'female'\n",
    "               , 'female_surprise':'female'\n",
    "               , 'female_neutral':'female'\n",
    "               , 'male_angry':'male'\n",
    "               , 'male_fear':'male'\n",
    "               , 'male_happy':'male'\n",
    "               , 'male_sad':'male'\n",
    "               , 'male_surprise':'male'\n",
    "               , 'male_neutral':'male'\n",
    "               , 'male_disgust':'male'\n",
    "              })\n",
    "\n",
    "        classes = actual.loc[:,0].unique() \n",
    "        classes.sort()    \n",
    "\n",
    "        c = confusion_matrix(actual, preds)\n",
    "        print(accuracy_score(actual, preds))\n",
    "        print_confusion_matrix(c, class_names = classes)"
   ]
  },
  {
   "cell_type": "code",
   "execution_count": 10,
   "metadata": {},
   "outputs": [
    {
     "data": {
      "text/html": [
       "<div>\n",
       "<style scoped>\n",
       "    .dataframe tbody tr th:only-of-type {\n",
       "        vertical-align: middle;\n",
       "    }\n",
       "\n",
       "    .dataframe tbody tr th {\n",
       "        vertical-align: top;\n",
       "    }\n",
       "\n",
       "    .dataframe thead th {\n",
       "        text-align: right;\n",
       "    }\n",
       "</style>\n",
       "<table border=\"1\" class=\"dataframe\">\n",
       "  <thead>\n",
       "    <tr style=\"text-align: right;\">\n",
       "      <th></th>\n",
       "      <th>gender</th>\n",
       "      <th>emotion</th>\n",
       "      <th>labels</th>\n",
       "      <th>path</th>\n",
       "      <th>label</th>\n",
       "    </tr>\n",
       "  </thead>\n",
       "  <tbody>\n",
       "    <tr>\n",
       "      <td>0</td>\n",
       "      <td>male</td>\n",
       "      <td>calm</td>\n",
       "      <td>male_calm</td>\n",
       "      <td>/Users/shaha/Downloads/ravdess-emotional-speec...</td>\n",
       "      <td>male_positive</td>\n",
       "    </tr>\n",
       "    <tr>\n",
       "      <td>1</td>\n",
       "      <td>male</td>\n",
       "      <td>calm</td>\n",
       "      <td>male_calm</td>\n",
       "      <td>/Users/shaha/Downloads/ravdess-emotional-speec...</td>\n",
       "      <td>male_positive</td>\n",
       "    </tr>\n",
       "    <tr>\n",
       "      <td>2</td>\n",
       "      <td>male</td>\n",
       "      <td>calm</td>\n",
       "      <td>male_calm</td>\n",
       "      <td>/Users/shaha/Downloads/ravdess-emotional-speec...</td>\n",
       "      <td>male_positive</td>\n",
       "    </tr>\n",
       "    <tr>\n",
       "      <td>3</td>\n",
       "      <td>male</td>\n",
       "      <td>calm</td>\n",
       "      <td>male_calm</td>\n",
       "      <td>/Users/shaha/Downloads/ravdess-emotional-speec...</td>\n",
       "      <td>male_positive</td>\n",
       "    </tr>\n",
       "    <tr>\n",
       "      <td>4</td>\n",
       "      <td>male</td>\n",
       "      <td>calm</td>\n",
       "      <td>male_calm</td>\n",
       "      <td>/Users/shaha/Downloads/ravdess-emotional-speec...</td>\n",
       "      <td>male_positive</td>\n",
       "    </tr>\n",
       "  </tbody>\n",
       "</table>\n",
       "</div>"
      ],
      "text/plain": [
       "  gender emotion     labels  \\\n",
       "0   male    calm  male_calm   \n",
       "1   male    calm  male_calm   \n",
       "2   male    calm  male_calm   \n",
       "3   male    calm  male_calm   \n",
       "4   male    calm  male_calm   \n",
       "\n",
       "                                                path          label  \n",
       "0  /Users/shaha/Downloads/ravdess-emotional-speec...  male_positive  \n",
       "1  /Users/shaha/Downloads/ravdess-emotional-speec...  male_positive  \n",
       "2  /Users/shaha/Downloads/ravdess-emotional-speec...  male_positive  \n",
       "3  /Users/shaha/Downloads/ravdess-emotional-speec...  male_positive  \n",
       "4  /Users/shaha/Downloads/ravdess-emotional-speec...  male_positive  "
      ]
     },
     "execution_count": 10,
     "metadata": {},
     "output_type": "execute_result"
    }
   ],
   "source": [
    "ref = pd.DataFrame(RAV_df)\n",
    "ref.head()"
   ]
  },
  {
   "cell_type": "code",
   "execution_count": 11,
   "metadata": {
    "scrolled": true
   },
   "outputs": [
    {
     "name": "stderr",
     "output_type": "stream",
     "text": [
      "100%|██████████| 1440/1440 [02:43<00:00,  8.80it/s]\n"
     ]
    }
   ],
   "source": [
    "sampling_rate=44100\n",
    "audio_duration=2.5\n",
    "n_mfcc = 30\n",
    "mfcc = prepare_data(ref, n = n_mfcc, aug = 0, mfcc = 1)\n"
   ]
  },
  {
   "cell_type": "code",
   "execution_count": 12,
   "metadata": {
    "scrolled": false
   },
   "outputs": [
    {
     "data": {
      "text/html": [
       "<div>\n",
       "<style scoped>\n",
       "    .dataframe tbody tr th:only-of-type {\n",
       "        vertical-align: middle;\n",
       "    }\n",
       "\n",
       "    .dataframe tbody tr th {\n",
       "        vertical-align: top;\n",
       "    }\n",
       "\n",
       "    .dataframe thead th {\n",
       "        text-align: right;\n",
       "    }\n",
       "</style>\n",
       "<table border=\"1\" class=\"dataframe\">\n",
       "  <thead>\n",
       "    <tr style=\"text-align: right;\">\n",
       "      <th></th>\n",
       "      <th>label</th>\n",
       "      <th>labels</th>\n",
       "    </tr>\n",
       "  </thead>\n",
       "  <tbody>\n",
       "    <tr>\n",
       "      <td>0</td>\n",
       "      <td>male_positive</td>\n",
       "      <td>male_calm</td>\n",
       "    </tr>\n",
       "    <tr>\n",
       "      <td>1</td>\n",
       "      <td>male_positive</td>\n",
       "      <td>male_calm</td>\n",
       "    </tr>\n",
       "    <tr>\n",
       "      <td>2</td>\n",
       "      <td>male_positive</td>\n",
       "      <td>male_calm</td>\n",
       "    </tr>\n",
       "    <tr>\n",
       "      <td>3</td>\n",
       "      <td>male_positive</td>\n",
       "      <td>male_calm</td>\n",
       "    </tr>\n",
       "    <tr>\n",
       "      <td>4</td>\n",
       "      <td>male_positive</td>\n",
       "      <td>male_calm</td>\n",
       "    </tr>\n",
       "    <tr>\n",
       "      <td>...</td>\n",
       "      <td>...</td>\n",
       "      <td>...</td>\n",
       "    </tr>\n",
       "    <tr>\n",
       "      <td>1435</td>\n",
       "      <td>female_positive</td>\n",
       "      <td>female_surprise</td>\n",
       "    </tr>\n",
       "    <tr>\n",
       "      <td>1436</td>\n",
       "      <td>female_positive</td>\n",
       "      <td>female_surprise</td>\n",
       "    </tr>\n",
       "    <tr>\n",
       "      <td>1437</td>\n",
       "      <td>female_positive</td>\n",
       "      <td>female_surprise</td>\n",
       "    </tr>\n",
       "    <tr>\n",
       "      <td>1438</td>\n",
       "      <td>female_positive</td>\n",
       "      <td>female_surprise</td>\n",
       "    </tr>\n",
       "    <tr>\n",
       "      <td>1439</td>\n",
       "      <td>female_positive</td>\n",
       "      <td>female_surprise</td>\n",
       "    </tr>\n",
       "  </tbody>\n",
       "</table>\n",
       "<p>1440 rows × 2 columns</p>\n",
       "</div>"
      ],
      "text/plain": [
       "                label           labels\n",
       "0       male_positive        male_calm\n",
       "1       male_positive        male_calm\n",
       "2       male_positive        male_calm\n",
       "3       male_positive        male_calm\n",
       "4       male_positive        male_calm\n",
       "...               ...              ...\n",
       "1435  female_positive  female_surprise\n",
       "1436  female_positive  female_surprise\n",
       "1437  female_positive  female_surprise\n",
       "1438  female_positive  female_surprise\n",
       "1439  female_positive  female_surprise\n",
       "\n",
       "[1440 rows x 2 columns]"
      ]
     },
     "execution_count": 12,
     "metadata": {},
     "output_type": "execute_result"
    }
   ],
   "source": [
    "ref[['label', 'labels']]"
   ]
  },
  {
   "cell_type": "code",
   "execution_count": null,
   "metadata": {},
   "outputs": [],
   "source": []
  },
  {
   "cell_type": "code",
   "execution_count": 13,
   "metadata": {},
   "outputs": [],
   "source": [
    "from tensorflow.compat.v1 import ConfigProto\n",
    "from tensorflow.compat.v1 import InteractiveSession\n",
    "config = ConfigProto()\n",
    "config.gpu_options.allow_growth = True\n",
    "session = InteractiveSession(config=config)\n",
    "# Split between train and test\n",
    "X_train, X_test, y2_train, y2_test = train_test_split(mfcc\n",
    " , ref[['label', 'labels']]\n",
    " , test_size=0.1\n",
    " , shuffle=True\n",
    " , random_state=42\n",
    " )"
   ]
  },
  {
   "cell_type": "code",
   "execution_count": 14,
   "metadata": {},
   "outputs": [
    {
     "data": {
      "text/html": [
       "<div>\n",
       "<style scoped>\n",
       "    .dataframe tbody tr th:only-of-type {\n",
       "        vertical-align: middle;\n",
       "    }\n",
       "\n",
       "    .dataframe tbody tr th {\n",
       "        vertical-align: top;\n",
       "    }\n",
       "\n",
       "    .dataframe thead th {\n",
       "        text-align: right;\n",
       "    }\n",
       "</style>\n",
       "<table border=\"1\" class=\"dataframe\">\n",
       "  <thead>\n",
       "    <tr style=\"text-align: right;\">\n",
       "      <th></th>\n",
       "      <th>label</th>\n",
       "      <th>labels</th>\n",
       "    </tr>\n",
       "  </thead>\n",
       "  <tbody>\n",
       "    <tr>\n",
       "      <td>32</td>\n",
       "      <td>male_negative</td>\n",
       "      <td>male_angry</td>\n",
       "    </tr>\n",
       "    <tr>\n",
       "      <td>614</td>\n",
       "      <td>male_positive</td>\n",
       "      <td>male_happy</td>\n",
       "    </tr>\n",
       "    <tr>\n",
       "      <td>394</td>\n",
       "      <td>male_negative</td>\n",
       "      <td>male_angry</td>\n",
       "    </tr>\n",
       "    <tr>\n",
       "      <td>724</td>\n",
       "      <td>male_positive</td>\n",
       "      <td>male_calm</td>\n",
       "    </tr>\n",
       "    <tr>\n",
       "      <td>898</td>\n",
       "      <td>male_positive</td>\n",
       "      <td>male_surprise</td>\n",
       "    </tr>\n",
       "    <tr>\n",
       "      <td>...</td>\n",
       "      <td>...</td>\n",
       "      <td>...</td>\n",
       "    </tr>\n",
       "    <tr>\n",
       "      <td>1095</td>\n",
       "      <td>male_positive</td>\n",
       "      <td>male_happy</td>\n",
       "    </tr>\n",
       "    <tr>\n",
       "      <td>1130</td>\n",
       "      <td>male_negative</td>\n",
       "      <td>male_disgust</td>\n",
       "    </tr>\n",
       "    <tr>\n",
       "      <td>1294</td>\n",
       "      <td>female_negative</td>\n",
       "      <td>female_angry</td>\n",
       "    </tr>\n",
       "    <tr>\n",
       "      <td>860</td>\n",
       "      <td>male_negative</td>\n",
       "      <td>male_sad</td>\n",
       "    </tr>\n",
       "    <tr>\n",
       "      <td>1126</td>\n",
       "      <td>male_negative</td>\n",
       "      <td>male_disgust</td>\n",
       "    </tr>\n",
       "  </tbody>\n",
       "</table>\n",
       "<p>1296 rows × 2 columns</p>\n",
       "</div>"
      ],
      "text/plain": [
       "                label         labels\n",
       "32      male_negative     male_angry\n",
       "614     male_positive     male_happy\n",
       "394     male_negative     male_angry\n",
       "724     male_positive      male_calm\n",
       "898     male_positive  male_surprise\n",
       "...               ...            ...\n",
       "1095    male_positive     male_happy\n",
       "1130    male_negative   male_disgust\n",
       "1294  female_negative   female_angry\n",
       "860     male_negative       male_sad\n",
       "1126    male_negative   male_disgust\n",
       "\n",
       "[1296 rows x 2 columns]"
      ]
     },
     "execution_count": 14,
     "metadata": {},
     "output_type": "execute_result"
    }
   ],
   "source": [
    "y2_train"
   ]
  },
  {
   "cell_type": "code",
   "execution_count": 15,
   "metadata": {},
   "outputs": [],
   "source": [
    "y_train=pd.DataFrame(y2_train.iloc[:,0])\n",
    "y_test=pd.DataFrame(y2_test.iloc[:,0])"
   ]
  },
  {
   "cell_type": "code",
   "execution_count": 16,
   "metadata": {},
   "outputs": [],
   "source": [
    "\n",
    "\n",
    "# one hot encode the target \n",
    "lb = LabelEncoder()\n",
    "y_train = np_utils.to_categorical(lb.fit_transform(y_train))\n",
    "y_test = np_utils.to_categorical(lb.fit_transform(y_test))\n",
    "\n",
    "# Normalization as per the standard NN process\n",
    "mean = np.mean(X_train, axis=0)\n",
    "std = np.std(X_train, axis=0)\n",
    "\n",
    "X_train = (X_train - mean)/std\n",
    "X_test = (X_test - mean)/std\n"
   ]
  },
  {
   "cell_type": "code",
   "execution_count": 172,
   "metadata": {},
   "outputs": [],
   "source": []
  },
  {
   "cell_type": "code",
   "execution_count": 271,
   "metadata": {},
   "outputs": [
    {
     "name": "stdout",
     "output_type": "stream",
     "text": [
      "Train on 1296 samples, validate on 144 samples\n",
      "Epoch 1/30\n",
      "1296/1296 - 41s - loss: 1.2794 - acc: 0.4259 - val_loss: 1.0660 - val_acc: 0.5000\n",
      "Epoch 2/30\n",
      "1296/1296 - 43s - loss: 0.9136 - acc: 0.5309 - val_loss: 1.5398 - val_acc: 0.2500\n",
      "Epoch 3/30\n",
      "1296/1296 - 42s - loss: 0.7935 - acc: 0.5988 - val_loss: 1.9791 - val_acc: 0.2986\n",
      "Epoch 4/30\n",
      "1296/1296 - 43s - loss: 0.7134 - acc: 0.6489 - val_loss: 0.6954 - val_acc: 0.6597\n",
      "Epoch 5/30\n",
      "1296/1296 - 44s - loss: 0.6405 - acc: 0.6983 - val_loss: 0.5859 - val_acc: 0.7847\n",
      "Epoch 6/30\n",
      "1296/1296 - 44s - loss: 0.6115 - acc: 0.7153 - val_loss: 0.6559 - val_acc: 0.7500\n",
      "Epoch 7/30\n",
      "1296/1296 - 44s - loss: 0.5360 - acc: 0.7778 - val_loss: 0.6624 - val_acc: 0.6875\n",
      "Epoch 8/30\n",
      "1296/1296 - 45s - loss: 0.4705 - acc: 0.8079 - val_loss: 0.5346 - val_acc: 0.7778\n",
      "Epoch 9/30\n",
      "1296/1296 - 45s - loss: 0.4491 - acc: 0.8187 - val_loss: 1.3134 - val_acc: 0.5833\n",
      "Epoch 10/30\n",
      "1296/1296 - 45s - loss: 0.3637 - acc: 0.8534 - val_loss: 0.5294 - val_acc: 0.7778\n",
      "Epoch 11/30\n",
      "1296/1296 - 43s - loss: 0.3185 - acc: 0.8873 - val_loss: 0.4502 - val_acc: 0.8194\n",
      "Epoch 12/30\n",
      "1296/1296 - 43s - loss: 0.2850 - acc: 0.8981 - val_loss: 1.1180 - val_acc: 0.6250\n",
      "Epoch 13/30\n",
      "1296/1296 - 43s - loss: 0.2660 - acc: 0.9035 - val_loss: 0.4164 - val_acc: 0.8472\n",
      "Epoch 14/30\n",
      "1296/1296 - 43s - loss: 0.2370 - acc: 0.9136 - val_loss: 0.4431 - val_acc: 0.7708\n",
      "Epoch 15/30\n",
      "1296/1296 - 43s - loss: 0.2192 - acc: 0.9213 - val_loss: 0.3060 - val_acc: 0.8750\n",
      "Epoch 16/30\n",
      "1296/1296 - 43s - loss: 0.2128 - acc: 0.9159 - val_loss: 0.4426 - val_acc: 0.8264\n",
      "Epoch 17/30\n",
      "1296/1296 - 43s - loss: 0.1793 - acc: 0.9429 - val_loss: 0.4649 - val_acc: 0.8264\n",
      "Epoch 18/30\n",
      "1296/1296 - 43s - loss: 0.1605 - acc: 0.9398 - val_loss: 0.5005 - val_acc: 0.8194\n",
      "Epoch 19/30\n",
      "1296/1296 - 43s - loss: 0.1620 - acc: 0.9421 - val_loss: 0.4106 - val_acc: 0.8333\n",
      "Epoch 20/30\n",
      "1296/1296 - 44s - loss: 0.1825 - acc: 0.9313 - val_loss: 0.5541 - val_acc: 0.7847\n",
      "Epoch 21/30\n",
      "1296/1296 - 43s - loss: 0.1418 - acc: 0.9483 - val_loss: 0.3151 - val_acc: 0.8889\n",
      "Epoch 22/30\n",
      "1296/1296 - 43s - loss: 0.1263 - acc: 0.9606 - val_loss: 0.8615 - val_acc: 0.7500\n",
      "Epoch 23/30\n",
      "1296/1296 - 43s - loss: 0.1553 - acc: 0.9452 - val_loss: 0.4156 - val_acc: 0.8611\n",
      "Epoch 24/30\n",
      "1296/1296 - 43s - loss: 0.1331 - acc: 0.9552 - val_loss: 0.2522 - val_acc: 0.8958\n",
      "Epoch 25/30\n",
      "1296/1296 - 43s - loss: 0.0978 - acc: 0.9660 - val_loss: 0.2952 - val_acc: 0.8542\n",
      "Epoch 26/30\n",
      "1296/1296 - 43s - loss: 0.0920 - acc: 0.9715 - val_loss: 0.7411 - val_acc: 0.7847\n",
      "Epoch 27/30\n",
      "1296/1296 - 43s - loss: 0.1018 - acc: 0.9653 - val_loss: 0.3859 - val_acc: 0.8264\n",
      "Epoch 28/30\n",
      "1296/1296 - 43s - loss: 0.1007 - acc: 0.9653 - val_loss: 0.5444 - val_acc: 0.8056\n",
      "Epoch 29/30\n",
      "1296/1296 - 43s - loss: 0.1058 - acc: 0.9637 - val_loss: 0.2969 - val_acc: 0.9097\n",
      "Epoch 30/30\n",
      "1296/1296 - 43s - loss: 0.0753 - acc: 0.9769 - val_loss: 0.2469 - val_acc: 0.9028\n"
     ]
    }
   ],
   "source": [
    "\n",
    "\n",
    "# Build CNN model \n",
    "model = get_2d_conv_model(n=n_mfcc)\n",
    "model_history = model.fit(X_train, y_train, validation_data=(X_test, y_test), \n",
    "                    batch_size=16, verbose = 2, epochs=30)"
   ]
  },
  {
   "cell_type": "code",
   "execution_count": 272,
   "metadata": {},
   "outputs": [
    {
     "name": "stdout",
     "output_type": "stream",
     "text": [
      "Saved model to disk\n"
     ]
    }
   ],
   "source": [
    " \n",
    "# serialize model to JSON\n",
    "model_json = model.to_json()\n",
    "with open(\"model_1st_level_classification2_90acc.json\", \"w\") as json_file:\n",
    "    json_file.write(model_json)\n",
    "# serialize weights to HDF5\n",
    "model.save_weights(\"model2_90acc.h5\")\n",
    "print(\"Saved model to disk\")\n",
    " "
   ]
  },
  {
   "cell_type": "code",
   "execution_count": 17,
   "metadata": {},
   "outputs": [
    {
     "name": "stdout",
     "output_type": "stream",
     "text": [
      "Loaded model from disk\n",
      "accuracy: 95.14%\n"
     ]
    }
   ],
   "source": [
    " \n",
    "# load json and create model\n",
    "json_file = open('model_1st_level_classification2_90acc.json', 'r')\n",
    "loaded_model_json = json_file.read()\n",
    "json_file.close()\n",
    "loaded_model = model_from_json(loaded_model_json)\n",
    "# load weights into new model\n",
    "loaded_model.load_weights(\"model2_90acc.h5\")\n",
    "print(\"Loaded model from disk\")\n",
    " \n",
    "# evaluate loaded model on test data\n",
    "loaded_model.compile(loss='binary_crossentropy', optimizer='rmsprop', metrics=['accuracy'])\n",
    "score = loaded_model.evaluate(X_test, y_test, verbose=0)\n",
    "print(\"%s: %.2f%%\" % (loaded_model.metrics_names[1], score[1]*100))"
   ]
  },
  {
   "cell_type": "code",
   "execution_count": 21,
   "metadata": {},
   "outputs": [
    {
     "name": "stdout",
     "output_type": "stream",
     "text": [
      "Accurcy =  0.9027777777777778\n",
      "Precision score =  0.916414355781928\n",
      "Recall score =  0.9027777777777778\n",
      "F1 score =  0.9029985222185312\n"
     ]
    }
   ],
   "source": [
    "preds = loaded_model.predict(X_test, \n",
    "                         batch_size=16, \n",
    "                         verbose=2)\n",
    "preds=preds.argmax(axis=1)\n",
    "#preds = preds.astype(int).flatten()\n",
    "preds = (lb.inverse_transform((preds)))\n",
    "\n",
    "actual = y_test.argmax(axis=1)\n",
    "#actual = actual.astype(int).flatten()\n",
    "actual = (lb.inverse_transform((actual)))\n",
    "\n",
    "\n",
    "accu1=accuracy_score(actual, preds)\n",
    "print(\"Accurcy = \", accu1)\n",
    "pres1=precision_score(actual, preds, average='weighted')\n",
    "print(\"Precision score = \", pres1)\n",
    "rec1=recall_score(actual, preds, average='weighted')\n",
    "print(\"Recall score = \", rec1)\n",
    "f1s=f1_score(actual, preds, average='weighted')\n",
    "print(\"F1 score = \", f1s)\n",
    "        "
   ]
  },
  {
   "cell_type": "code",
   "execution_count": 193,
   "metadata": {},
   "outputs": [
    {
     "data": {
      "text/plain": [
       "array(['male_negative', 'male_negative', 'female_positive',\n",
       "       'female_positive', 'male_negative', 'male_positive',\n",
       "       'female_positive', 'female_negative', 'female_positive',\n",
       "       'male_negative', 'female_negative', 'female_positive',\n",
       "       'male_negative', 'female_positive', 'male_negative',\n",
       "       'female_negative', 'female_negative', 'male_negative',\n",
       "       'female_positive', 'female_negative', 'female_positive',\n",
       "       'female_positive', 'female_positive', 'male_negative',\n",
       "       'female_negative', 'male_negative', 'male_positive',\n",
       "       'male_positive', 'male_negative', 'male_negative', 'male_negative',\n",
       "       'male_negative', 'male_positive', 'male_negative', 'male_positive',\n",
       "       'male_positive', 'male_negative', 'male_negative',\n",
       "       'female_negative', 'male_negative', 'female_positive',\n",
       "       'male_positive', 'female_positive', 'male_negative',\n",
       "       'male_positive', 'male_positive', 'female_positive',\n",
       "       'male_positive', 'female_negative', 'female_negative',\n",
       "       'male_negative', 'female_positive', 'male_positive',\n",
       "       'female_negative', 'female_positive', 'female_positive',\n",
       "       'female_positive', 'female_positive', 'male_positive',\n",
       "       'male_positive', 'male_positive', 'female_negative',\n",
       "       'male_positive', 'female_negative', 'female_negative',\n",
       "       'female_positive', 'female_positive', 'male_negative',\n",
       "       'female_negative', 'male_negative', 'female_positive',\n",
       "       'female_positive', 'female_positive', 'female_positive',\n",
       "       'male_negative', 'male_negative', 'male_negative',\n",
       "       'female_positive', 'male_negative', 'female_positive',\n",
       "       'male_positive', 'female_positive', 'female_positive',\n",
       "       'male_positive', 'female_positive', 'male_negative',\n",
       "       'female_negative', 'female_positive', 'male_negative',\n",
       "       'female_positive', 'female_positive', 'female_positive',\n",
       "       'female_negative', 'female_negative', 'female_negative',\n",
       "       'male_negative', 'male_positive', 'male_negative',\n",
       "       'female_positive', 'male_positive', 'female_positive',\n",
       "       'male_positive', 'male_negative', 'male_negative', 'male_positive',\n",
       "       'female_positive', 'female_positive', 'female_negative',\n",
       "       'male_negative', 'male_positive', 'female_positive',\n",
       "       'female_negative', 'female_positive', 'male_positive',\n",
       "       'female_negative', 'female_negative', 'female_negative',\n",
       "       'male_negative', 'male_negative', 'male_negative',\n",
       "       'female_positive', 'female_positive', 'female_positive',\n",
       "       'male_negative', 'male_negative', 'male_negative',\n",
       "       'female_positive', 'male_positive', 'female_negative',\n",
       "       'female_negative', 'male_positive', 'male_positive',\n",
       "       'male_positive', 'male_negative', 'female_positive',\n",
       "       'male_negative', 'female_positive', 'male_negative',\n",
       "       'female_negative', 'female_negative', 'male_negative',\n",
       "       'female_negative', 'female_negative', 'male_negative',\n",
       "       'male_negative', 'male_positive', 'male_negative', 'male_positive',\n",
       "       'male_positive', 'female_negative', 'male_negative',\n",
       "       'female_negative', 'female_positive', 'male_negative',\n",
       "       'female_negative', 'male_positive', 'female_negative',\n",
       "       'male_negative', 'male_positive', 'female_negative',\n",
       "       'male_negative', 'male_negative', 'female_negative',\n",
       "       'female_positive', 'female_positive', 'female_positive',\n",
       "       'male_negative', 'female_positive', 'female_negative',\n",
       "       'female_positive', 'female_positive', 'male_negative',\n",
       "       'female_negative', 'female_negative', 'male_negative',\n",
       "       'female_positive', 'male_negative', 'male_positive',\n",
       "       'male_positive', 'female_negative', 'female_negative',\n",
       "       'female_negative', 'female_positive', 'female_positive',\n",
       "       'female_positive', 'male_positive', 'female_positive',\n",
       "       'female_negative', 'female_negative', 'male_negative',\n",
       "       'male_negative', 'female_negative', 'female_negative',\n",
       "       'female_positive', 'male_negative', 'female_positive',\n",
       "       'male_positive', 'female_positive', 'female_negative',\n",
       "       'female_positive', 'female_negative', 'male_negative',\n",
       "       'male_positive', 'female_negative', 'male_negative',\n",
       "       'female_negative', 'male_negative', 'female_positive',\n",
       "       'male_positive', 'male_positive', 'female_positive',\n",
       "       'male_negative', 'female_positive', 'female_negative',\n",
       "       'female_positive', 'male_negative', 'female_negative',\n",
       "       'female_negative', 'female_positive', 'male_negative',\n",
       "       'female_negative', 'male_positive', 'female_negative',\n",
       "       'female_negative', 'male_negative', 'female_negative',\n",
       "       'female_positive', 'female_positive', 'male_negative',\n",
       "       'male_positive', 'female_negative', 'female_positive',\n",
       "       'female_negative', 'male_negative', 'female_positive',\n",
       "       'female_negative', 'female_negative', 'male_negative',\n",
       "       'female_negative', 'male_positive', 'male_negative',\n",
       "       'male_positive', 'female_positive', 'male_positive',\n",
       "       'male_negative', 'female_positive', 'male_positive',\n",
       "       'male_positive', 'male_positive', 'female_negative',\n",
       "       'male_negative', 'male_negative', 'male_negative', 'male_positive',\n",
       "       'male_negative', 'female_negative', 'male_negative',\n",
       "       'female_positive', 'female_positive', 'male_negative',\n",
       "       'male_positive', 'female_positive', 'female_positive',\n",
       "       'female_positive', 'male_negative', 'male_positive',\n",
       "       'female_negative', 'female_positive', 'female_positive',\n",
       "       'male_positive', 'female_positive', 'male_positive',\n",
       "       'male_negative', 'male_negative', 'male_negative', 'male_negative',\n",
       "       'male_negative', 'male_positive', 'female_negative',\n",
       "       'male_negative', 'female_negative', 'female_positive',\n",
       "       'female_positive', 'male_negative', 'male_positive',\n",
       "       'female_negative', 'male_negative', 'male_negative',\n",
       "       'female_negative', 'female_negative', 'female_negative',\n",
       "       'female_positive', 'male_positive', 'female_negative',\n",
       "       'male_positive', 'female_positive', 'female_negative',\n",
       "       'female_positive', 'female_positive', 'female_positive',\n",
       "       'male_positive', 'male_negative', 'female_negative',\n",
       "       'male_negative', 'female_positive', 'male_positive',\n",
       "       'female_positive', 'male_negative', 'female_positive',\n",
       "       'female_negative', 'female_positive', 'female_positive',\n",
       "       'female_positive', 'female_negative', 'female_negative',\n",
       "       'female_positive', 'male_positive', 'male_negative',\n",
       "       'male_negative', 'male_negative', 'female_positive',\n",
       "       'male_positive', 'female_negative', 'male_negative',\n",
       "       'female_negative', 'male_positive', 'male_positive',\n",
       "       'female_positive', 'female_negative', 'male_negative',\n",
       "       'male_negative', 'male_negative', 'female_positive',\n",
       "       'male_negative', 'female_positive', 'female_negative',\n",
       "       'male_negative', 'female_negative', 'male_negative',\n",
       "       'male_negative', 'male_positive', 'female_negative',\n",
       "       'male_negative', 'female_negative', 'male_negative',\n",
       "       'female_negative', 'female_negative', 'female_negative',\n",
       "       'male_negative', 'female_negative', 'male_positive',\n",
       "       'female_positive', 'male_positive', 'female_negative',\n",
       "       'male_negative', 'female_negative', 'male_negative',\n",
       "       'male_negative', 'female_positive', 'female_positive'],\n",
       "      dtype=object)"
      ]
     },
     "execution_count": 193,
     "metadata": {},
     "output_type": "execute_result"
    }
   ],
   "source": [
    "preds"
   ]
  },
  {
   "cell_type": "code",
   "execution_count": 194,
   "metadata": {},
   "outputs": [
    {
     "data": {
      "text/html": [
       "<div>\n",
       "<style scoped>\n",
       "    .dataframe tbody tr th:only-of-type {\n",
       "        vertical-align: middle;\n",
       "    }\n",
       "\n",
       "    .dataframe tbody tr th {\n",
       "        vertical-align: top;\n",
       "    }\n",
       "\n",
       "    .dataframe thead th {\n",
       "        text-align: right;\n",
       "    }\n",
       "</style>\n",
       "<table border=\"1\" class=\"dataframe\">\n",
       "  <thead>\n",
       "    <tr style=\"text-align: right;\">\n",
       "      <th></th>\n",
       "      <th>gender</th>\n",
       "      <th>emotion</th>\n",
       "      <th>labels</th>\n",
       "      <th>path</th>\n",
       "      <th>label</th>\n",
       "    </tr>\n",
       "  </thead>\n",
       "  <tbody>\n",
       "    <tr>\n",
       "      <td>0</td>\n",
       "      <td>male</td>\n",
       "      <td>calm</td>\n",
       "      <td>male_calm</td>\n",
       "      <td>/Users/shaha/Downloads/ravdess-emotional-speec...</td>\n",
       "      <td>male_positive</td>\n",
       "    </tr>\n",
       "    <tr>\n",
       "      <td>1</td>\n",
       "      <td>male</td>\n",
       "      <td>calm</td>\n",
       "      <td>male_calm</td>\n",
       "      <td>/Users/shaha/Downloads/ravdess-emotional-speec...</td>\n",
       "      <td>male_positive</td>\n",
       "    </tr>\n",
       "    <tr>\n",
       "      <td>2</td>\n",
       "      <td>male</td>\n",
       "      <td>calm</td>\n",
       "      <td>male_calm</td>\n",
       "      <td>/Users/shaha/Downloads/ravdess-emotional-speec...</td>\n",
       "      <td>male_positive</td>\n",
       "    </tr>\n",
       "    <tr>\n",
       "      <td>3</td>\n",
       "      <td>male</td>\n",
       "      <td>calm</td>\n",
       "      <td>male_calm</td>\n",
       "      <td>/Users/shaha/Downloads/ravdess-emotional-speec...</td>\n",
       "      <td>male_positive</td>\n",
       "    </tr>\n",
       "    <tr>\n",
       "      <td>4</td>\n",
       "      <td>male</td>\n",
       "      <td>calm</td>\n",
       "      <td>male_calm</td>\n",
       "      <td>/Users/shaha/Downloads/ravdess-emotional-speec...</td>\n",
       "      <td>male_positive</td>\n",
       "    </tr>\n",
       "    <tr>\n",
       "      <td>...</td>\n",
       "      <td>...</td>\n",
       "      <td>...</td>\n",
       "      <td>...</td>\n",
       "      <td>...</td>\n",
       "      <td>...</td>\n",
       "    </tr>\n",
       "    <tr>\n",
       "      <td>1435</td>\n",
       "      <td>female</td>\n",
       "      <td>surprise</td>\n",
       "      <td>female_surprise</td>\n",
       "      <td>/Users/shaha/Downloads/ravdess-emotional-speec...</td>\n",
       "      <td>female_positive</td>\n",
       "    </tr>\n",
       "    <tr>\n",
       "      <td>1436</td>\n",
       "      <td>female</td>\n",
       "      <td>surprise</td>\n",
       "      <td>female_surprise</td>\n",
       "      <td>/Users/shaha/Downloads/ravdess-emotional-speec...</td>\n",
       "      <td>female_positive</td>\n",
       "    </tr>\n",
       "    <tr>\n",
       "      <td>1437</td>\n",
       "      <td>female</td>\n",
       "      <td>surprise</td>\n",
       "      <td>female_surprise</td>\n",
       "      <td>/Users/shaha/Downloads/ravdess-emotional-speec...</td>\n",
       "      <td>female_positive</td>\n",
       "    </tr>\n",
       "    <tr>\n",
       "      <td>1438</td>\n",
       "      <td>female</td>\n",
       "      <td>surprise</td>\n",
       "      <td>female_surprise</td>\n",
       "      <td>/Users/shaha/Downloads/ravdess-emotional-speec...</td>\n",
       "      <td>female_positive</td>\n",
       "    </tr>\n",
       "    <tr>\n",
       "      <td>1439</td>\n",
       "      <td>female</td>\n",
       "      <td>surprise</td>\n",
       "      <td>female_surprise</td>\n",
       "      <td>/Users/shaha/Downloads/ravdess-emotional-speec...</td>\n",
       "      <td>female_positive</td>\n",
       "    </tr>\n",
       "  </tbody>\n",
       "</table>\n",
       "<p>1440 rows × 5 columns</p>\n",
       "</div>"
      ],
      "text/plain": [
       "      gender   emotion           labels  \\\n",
       "0       male      calm        male_calm   \n",
       "1       male      calm        male_calm   \n",
       "2       male      calm        male_calm   \n",
       "3       male      calm        male_calm   \n",
       "4       male      calm        male_calm   \n",
       "...      ...       ...              ...   \n",
       "1435  female  surprise  female_surprise   \n",
       "1436  female  surprise  female_surprise   \n",
       "1437  female  surprise  female_surprise   \n",
       "1438  female  surprise  female_surprise   \n",
       "1439  female  surprise  female_surprise   \n",
       "\n",
       "                                                   path            label  \n",
       "0     /Users/shaha/Downloads/ravdess-emotional-speec...    male_positive  \n",
       "1     /Users/shaha/Downloads/ravdess-emotional-speec...    male_positive  \n",
       "2     /Users/shaha/Downloads/ravdess-emotional-speec...    male_positive  \n",
       "3     /Users/shaha/Downloads/ravdess-emotional-speec...    male_positive  \n",
       "4     /Users/shaha/Downloads/ravdess-emotional-speec...    male_positive  \n",
       "...                                                 ...              ...  \n",
       "1435  /Users/shaha/Downloads/ravdess-emotional-speec...  female_positive  \n",
       "1436  /Users/shaha/Downloads/ravdess-emotional-speec...  female_positive  \n",
       "1437  /Users/shaha/Downloads/ravdess-emotional-speec...  female_positive  \n",
       "1438  /Users/shaha/Downloads/ravdess-emotional-speec...  female_positive  \n",
       "1439  /Users/shaha/Downloads/ravdess-emotional-speec...  female_positive  \n",
       "\n",
       "[1440 rows x 5 columns]"
      ]
     },
     "execution_count": 194,
     "metadata": {},
     "output_type": "execute_result"
    }
   ],
   "source": [
    "ref"
   ]
  },
  {
   "cell_type": "code",
   "execution_count": 180,
   "metadata": {},
   "outputs": [
    {
     "data": {
      "image/png": "[encoded data removed]",
      "text/plain": [
       "<Figure size 432x288 with 1 Axes>"
      ]
     },
     "metadata": {
      "needs_background": "light"
     },
     "output_type": "display_data"
    },
    {
     "name": "stdout",
     "output_type": "stream",
     "text": [
      "accuracy: 84.72%\n",
      "360/1 - 9s\n"
     ]
    },
    {
     "data": {
      "image/png": "[encoded data removed]",
      "text/plain": [
       "<Figure size 720x504 with 2 Axes>"
      ]
     },
     "metadata": {
      "needs_background": "light"
     },
     "output_type": "display_data"
    }
   ],
   "source": [
    "results = get_results(model_history,loaded_model,X_test,y_test, ref.label.unique())\n",
    "results.create_plot(model_history)\n",
    "results.create_results(loaded_model)\n",
    "results.confusion_results(X_test, y_test, ref.label.unique(), loaded_model)"
   ]
  },
  {
   "cell_type": "code",
   "execution_count": null,
   "metadata": {},
   "outputs": [],
   "source": [
    "#really good at gender classification "
   ]
  },
  {
   "cell_type": "code",
   "execution_count": 33,
   "metadata": {
    "scrolled": true
   },
   "outputs": [
    {
     "data": {
      "image/png": "[encoded data removed]",
      "text/plain": [
       "<Figure size 432x288 with 1 Axes>"
      ]
     },
     "metadata": {
      "needs_background": "light"
     },
     "output_type": "display_data"
    },
    {
     "name": "stdout",
     "output_type": "stream",
     "text": [
      "accuracy: 84.72%\n",
      "1080/1 - 25s\n"
     ]
    },
    {
     "data": {
      "image/png": "[encoded data removed]",
      "text/plain": [
       "<Figure size 720x504 with 2 Axes>"
      ]
     },
     "metadata": {
      "needs_background": "light"
     },
     "output_type": "display_data"
    }
   ],
   "source": [
    "results = get_results(model_history,model,X_train,y_train, ref.labels.unique())\n",
    "results.create_plot(model_history)\n",
    "results.create_results(model)\n",
    "results.confusion_results(X_train, y_train, ref.labels.unique(), model)"
   ]
  },
  {
   "cell_type": "code",
   "execution_count": 25,
   "metadata": {},
   "outputs": [
    {
     "name": "stdout",
     "output_type": "stream",
     "text": [
      "1296/1 - 30s\n"
     ]
    }
   ],
   "source": [
    "preds_train = loaded_model.predict(X_train, \n",
    "                         batch_size=16, \n",
    "                         verbose=2)\n",
    "preds_train=preds_train.argmax(axis=1)\n",
    "#preds_train = preds_train.astype(int).flatten()\n",
    "preds_train = (lb.inverse_transform((preds_train)))\n",
    "\n",
    "actual_train = y_train.argmax(axis=1)\n",
    "#actual_train = actual_train.astype(int).flatten()\n",
    "actual_train = (lb.inverse_transform((actual_train)))"
   ]
  },
  {
   "cell_type": "code",
   "execution_count": 26,
   "metadata": {},
   "outputs": [
    {
     "data": {
      "text/html": [
       "<div>\n",
       "<style scoped>\n",
       "    .dataframe tbody tr th:only-of-type {\n",
       "        vertical-align: middle;\n",
       "    }\n",
       "\n",
       "    .dataframe tbody tr th {\n",
       "        vertical-align: top;\n",
       "    }\n",
       "\n",
       "    .dataframe thead th {\n",
       "        text-align: right;\n",
       "    }\n",
       "</style>\n",
       "<table border=\"1\" class=\"dataframe\">\n",
       "  <thead>\n",
       "    <tr style=\"text-align: right;\">\n",
       "      <th></th>\n",
       "      <th>label</th>\n",
       "      <th>labels</th>\n",
       "    </tr>\n",
       "  </thead>\n",
       "  <tbody>\n",
       "    <tr>\n",
       "      <td>32</td>\n",
       "      <td>male_negative</td>\n",
       "      <td>male_angry</td>\n",
       "    </tr>\n",
       "    <tr>\n",
       "      <td>614</td>\n",
       "      <td>male_positive</td>\n",
       "      <td>male_happy</td>\n",
       "    </tr>\n",
       "    <tr>\n",
       "      <td>394</td>\n",
       "      <td>male_negative</td>\n",
       "      <td>male_angry</td>\n",
       "    </tr>\n",
       "    <tr>\n",
       "      <td>724</td>\n",
       "      <td>male_positive</td>\n",
       "      <td>male_calm</td>\n",
       "    </tr>\n",
       "    <tr>\n",
       "      <td>898</td>\n",
       "      <td>male_positive</td>\n",
       "      <td>male_surprise</td>\n",
       "    </tr>\n",
       "    <tr>\n",
       "      <td>...</td>\n",
       "      <td>...</td>\n",
       "      <td>...</td>\n",
       "    </tr>\n",
       "    <tr>\n",
       "      <td>1095</td>\n",
       "      <td>male_positive</td>\n",
       "      <td>male_happy</td>\n",
       "    </tr>\n",
       "    <tr>\n",
       "      <td>1130</td>\n",
       "      <td>male_negative</td>\n",
       "      <td>male_disgust</td>\n",
       "    </tr>\n",
       "    <tr>\n",
       "      <td>1294</td>\n",
       "      <td>female_negative</td>\n",
       "      <td>female_angry</td>\n",
       "    </tr>\n",
       "    <tr>\n",
       "      <td>860</td>\n",
       "      <td>male_negative</td>\n",
       "      <td>male_sad</td>\n",
       "    </tr>\n",
       "    <tr>\n",
       "      <td>1126</td>\n",
       "      <td>male_negative</td>\n",
       "      <td>male_disgust</td>\n",
       "    </tr>\n",
       "  </tbody>\n",
       "</table>\n",
       "<p>1296 rows × 2 columns</p>\n",
       "</div>"
      ],
      "text/plain": [
       "                label         labels\n",
       "32      male_negative     male_angry\n",
       "614     male_positive     male_happy\n",
       "394     male_negative     male_angry\n",
       "724     male_positive      male_calm\n",
       "898     male_positive  male_surprise\n",
       "...               ...            ...\n",
       "1095    male_positive     male_happy\n",
       "1130    male_negative   male_disgust\n",
       "1294  female_negative   female_angry\n",
       "860     male_negative       male_sad\n",
       "1126    male_negative   male_disgust\n",
       "\n",
       "[1296 rows x 2 columns]"
      ]
     },
     "execution_count": 26,
     "metadata": {},
     "output_type": "execute_result"
    }
   ],
   "source": [
    "y2_train"
   ]
  },
  {
   "cell_type": "code",
   "execution_count": 27,
   "metadata": {},
   "outputs": [],
   "source": [
    "new_X=np.vstack((X_train,X_test))\n",
    "\n",
    "\n",
    "#new_y=np.vstack((preds_train,preds))\n",
    "\n",
    "new_y=np.append(preds_train,preds, axis=0)\n",
    "new_true_y=np.append(y2_train.iloc[:,1],y2_test.iloc[:,1], axis=0)"
   ]
  },
  {
   "cell_type": "code",
   "execution_count": 28,
   "metadata": {},
   "outputs": [
    {
     "data": {
      "text/plain": [
       "array(['male_negative', 'male_positive', 'male_negative', ...,\n",
       "       'female_negative', 'female_negative', 'male_positive'],\n",
       "      dtype=object)"
      ]
     },
     "execution_count": 28,
     "metadata": {},
     "output_type": "execute_result"
    }
   ],
   "source": [
    "new_y"
   ]
  },
  {
   "cell_type": "code",
   "execution_count": 29,
   "metadata": {},
   "outputs": [
    {
     "data": {
      "text/plain": [
       "array(['male_angry', 'male_happy', 'male_angry', ..., 'female_angry',\n",
       "       'female_happy', 'male_happy'], dtype=object)"
      ]
     },
     "execution_count": 29,
     "metadata": {},
     "output_type": "execute_result"
    }
   ],
   "source": [
    "new_true_y"
   ]
  },
  {
   "cell_type": "code",
   "execution_count": 30,
   "metadata": {},
   "outputs": [
    {
     "data": {
      "text/plain": [
       "(1296,)"
      ]
     },
     "execution_count": 30,
     "metadata": {},
     "output_type": "execute_result"
    }
   ],
   "source": [
    "preds_train.shape"
   ]
  },
  {
   "cell_type": "code",
   "execution_count": 31,
   "metadata": {},
   "outputs": [
    {
     "data": {
      "text/plain": [
       "(144,)"
      ]
     },
     "execution_count": 31,
     "metadata": {},
     "output_type": "execute_result"
    }
   ],
   "source": [
    "preds.shape"
   ]
  },
  {
   "cell_type": "code",
   "execution_count": 32,
   "metadata": {},
   "outputs": [],
   "source": [
    "len1=new_y.shape[0]"
   ]
  },
  {
   "cell_type": "code",
   "execution_count": 33,
   "metadata": {},
   "outputs": [
    {
     "data": {
      "text/plain": [
       "(30, 216, 1)"
      ]
     },
     "execution_count": 33,
     "metadata": {},
     "output_type": "execute_result"
    }
   ],
   "source": [
    "new_X[0].shape"
   ]
  },
  {
   "cell_type": "code",
   "execution_count": 34,
   "metadata": {},
   "outputs": [
    {
     "data": {
      "text/plain": [
       "'male_negative'"
      ]
     },
     "execution_count": 34,
     "metadata": {},
     "output_type": "execute_result"
    }
   ],
   "source": [
    "new_y[0]"
   ]
  },
  {
   "cell_type": "code",
   "execution_count": 36,
   "metadata": {},
   "outputs": [],
   "source": [
    "pos_x=[]\n",
    "pos_y=[]\n",
    "neg_x=[]\n",
    "neg_y=[]\n",
    "pos_true_y=[]\n",
    "neg_true_y=[]\n",
    "\n",
    "for i in range(len1):\n",
    "    if(new_y[i]=='male_positive' or new_y[i]=='female_positive'):\n",
    "        pos_x=np.append(pos_x,new_X[i])\n",
    "        pos_y=np.append(pos_y,new_y[i])\n",
    "        pos_true_y=np.append(pos_true_y,new_true_y[i])\n",
    "    else:\n",
    "        neg_x=np.append(neg_x,new_X[i])\n",
    "        neg_y=np.append(neg_y,new_y[i])\n",
    "        neg_true_y=np.append(neg_true_y,new_true_y[i])\n",
    "        "
   ]
  },
  {
   "cell_type": "code",
   "execution_count": 37,
   "metadata": {},
   "outputs": [
    {
     "data": {
      "text/plain": [
       "array(['male_angry', 'male_angry', 'female_fear', 'male_fear',\n",
       "       'female_sad', 'male_fear', 'female_fear', 'male_sad',\n",
       "       'female_fear', 'male_sad', 'male_angry', 'female_angry',\n",
       "       'female_sad', 'male_angry', 'female_sad', 'male_fear',\n",
       "       'female_angry', 'female_disgust', 'male_fear', 'male_angry',\n",
       "       'female_sad', 'female_fear', 'female_sad', 'female_angry',\n",
       "       'female_angry', 'male_sad', 'male_disgust', 'female_fear',\n",
       "       'female_sad', 'male_sad', 'female_fear', 'female_disgust',\n",
       "       'female_fear', 'male_sad', 'female_sad', 'female_angry',\n",
       "       'male_disgust', 'female_sad', 'male_disgust', 'female_fear',\n",
       "       'male_fear', 'female_angry', 'female_angry', 'female_sad',\n",
       "       'female_disgust', 'female_fear', 'male_sad', 'female_disgust',\n",
       "       'female_sad', 'male_sad', 'female_sad', 'female_sad',\n",
       "       'male_disgust', 'female_angry', 'female_angry', 'male_disgust',\n",
       "       'female_angry', 'male_disgust', 'female_sad', 'male_angry',\n",
       "       'male_sad', 'male_angry', 'male_angry', 'female_disgust',\n",
       "       'male_sad', 'male_angry', 'male_angry', 'female_disgust',\n",
       "       'male_sad', 'male_sad', 'male_angry', 'male_angry', 'female_angry',\n",
       "       'female_angry', 'female_sad', 'male_disgust', 'male_sad',\n",
       "       'female_disgust', 'male_sad', 'female_fear', 'female_angry',\n",
       "       'female_disgust', 'female_angry', 'male_sad', 'male_angry',\n",
       "       'female_angry', 'female_disgust', 'male_sad', 'female_fear',\n",
       "       'female_sad', 'female_sad', 'male_disgust', 'male_angry',\n",
       "       'male_angry', 'female_fear', 'female_fear', 'male_sad',\n",
       "       'female_sad', 'female_fear', 'male_sad', 'male_disgust',\n",
       "       'male_disgust', 'female_disgust', 'male_disgust', 'female_disgust',\n",
       "       'male_sad', 'female_disgust', 'female_fear', 'female_disgust',\n",
       "       'male_disgust', 'female_disgust', 'female_angry', 'female_angry',\n",
       "       'female_disgust', 'male_sad', 'female_disgust', 'male_sad',\n",
       "       'female_fear', 'male_sad', 'female_disgust', 'female_sad',\n",
       "       'male_disgust', 'male_disgust', 'male_disgust', 'female_disgust',\n",
       "       'male_disgust', 'female_angry', 'female_angry', 'male_sad',\n",
       "       'female_sad', 'male_fear', 'male_disgust', 'female_sad',\n",
       "       'female_disgust', 'male_sad', 'male_fear', 'male_disgust',\n",
       "       'male_sad', 'male_angry', 'female_disgust', 'female_angry',\n",
       "       'female_sad', 'male_angry', 'female_sad', 'female_disgust',\n",
       "       'female_angry', 'male_fear', 'female_fear', 'male_fear',\n",
       "       'female_fear', 'male_disgust', 'male_disgust', 'male_fear',\n",
       "       'female_disgust', 'female_disgust', 'female_disgust',\n",
       "       'female_fear', 'female_sad', 'male_fear', 'male_disgust',\n",
       "       'male_fear', 'male_fear', 'female_angry', 'female_disgust',\n",
       "       'female_disgust', 'male_angry', 'female_fear', 'female_fear',\n",
       "       'male_fear', 'male_fear', 'female_angry', 'male_fear',\n",
       "       'male_disgust', 'female_disgust', 'female_disgust',\n",
       "       'female_disgust', 'male_disgust', 'male_disgust', 'female_disgust',\n",
       "       'male_disgust', 'female_sad', 'male_disgust', 'female_angry',\n",
       "       'female_angry', 'female_fear', 'male_fear', 'female_disgust',\n",
       "       'female_angry', 'male_disgust', 'male_disgust', 'male_disgust',\n",
       "       'male_sad', 'female_sad', 'female_disgust', 'male_disgust',\n",
       "       'male_disgust', 'male_fear', 'male_disgust', 'male_angry',\n",
       "       'male_sad', 'female_fear', 'female_fear', 'female_angry',\n",
       "       'female_angry', 'female_angry', 'male_angry', 'female_fear',\n",
       "       'male_disgust', 'male_sad', 'male_angry', 'female_sad',\n",
       "       'female_disgust', 'male_disgust', 'female_sad', 'female_angry',\n",
       "       'male_angry', 'male_sad', 'female_fear', 'female_disgust',\n",
       "       'female_sad', 'male_fear', 'male_fear', 'male_sad', 'female_sad',\n",
       "       'male_sad', 'female_fear', 'female_angry', 'female_disgust',\n",
       "       'male_disgust', 'male_sad', 'female_disgust', 'female_fear',\n",
       "       'female_angry', 'female_disgust', 'male_fear', 'female_sad',\n",
       "       'female_sad', 'female_sad', 'female_fear', 'female_fear',\n",
       "       'female_angry', 'male_sad', 'male_angry', 'male_sad',\n",
       "       'female_fear', 'female_angry', 'male_sad', 'female_sad',\n",
       "       'male_fear', 'male_sad', 'female_fear', 'female_angry',\n",
       "       'male_disgust', 'female_disgust', 'female_disgust', 'male_sad',\n",
       "       'female_angry', 'female_sad', 'female_sad', 'male_disgust',\n",
       "       'male_fear', 'female_fear', 'female_sad', 'male_fear',\n",
       "       'female_disgust', 'female_sad', 'male_sad', 'male_angry',\n",
       "       'female_angry', 'male_disgust', 'male_fear', 'male_fear',\n",
       "       'female_angry', 'female_disgust', 'female_disgust', 'male_disgust',\n",
       "       'female_sad', 'female_disgust', 'female_disgust', 'female_sad',\n",
       "       'female_sad', 'female_disgust', 'female_sad', 'male_disgust',\n",
       "       'female_sad', 'female_angry', 'female_angry', 'female_fear',\n",
       "       'male_angry', 'female_fear', 'female_sad', 'female_sad',\n",
       "       'female_angry', 'female_disgust', 'female_angry', 'male_angry',\n",
       "       'male_disgust', 'female_sad', 'female_angry', 'female_angry',\n",
       "       'male_angry', 'female_angry', 'female_angry', 'female_sad',\n",
       "       'female_fear', 'female_disgust', 'female_sad', 'male_fear',\n",
       "       'female_sad', 'female_fear', 'female_fear', 'male_disgust',\n",
       "       'male_angry', 'male_disgust', 'male_disgust', 'female_angry',\n",
       "       'female_disgust', 'female_disgust', 'female_angry', 'male_disgust',\n",
       "       'male_fear', 'female_angry', 'female_fear', 'male_sad', 'male_sad',\n",
       "       'female_angry', 'female_disgust', 'male_angry', 'male_sad',\n",
       "       'male_fear', 'male_disgust', 'female_fear', 'male_sad', 'male_sad',\n",
       "       'female_fear', 'female_fear', 'male_sad', 'male_angry',\n",
       "       'female_sad', 'male_sad', 'male_angry', 'male_angry',\n",
       "       'female_angry', 'female_angry', 'male_fear', 'male_sad',\n",
       "       'male_disgust', 'male_fear', 'male_sad', 'male_disgust',\n",
       "       'female_sad', 'male_disgust', 'female_disgust', 'female_disgust',\n",
       "       'male_angry', 'male_disgust', 'female_angry', 'male_angry',\n",
       "       'female_angry', 'male_disgust', 'male_angry', 'female_disgust',\n",
       "       'male_disgust', 'male_sad', 'female_disgust', 'male_sad',\n",
       "       'female_disgust', 'male_sad', 'female_disgust', 'male_fear',\n",
       "       'male_angry', 'male_fear', 'male_angry', 'female_fear',\n",
       "       'female_angry', 'male_disgust', 'female_angry', 'female_angry',\n",
       "       'female_sad', 'female_disgust', 'female_sad', 'female_sad',\n",
       "       'female_disgust', 'female_fear', 'male_sad', 'female_fear',\n",
       "       'male_disgust', 'male_angry', 'male_fear', 'female_fear',\n",
       "       'female_disgust', 'female_disgust', 'male_disgust', 'male_disgust',\n",
       "       'male_fear', 'female_sad', 'female_sad', 'female_disgust',\n",
       "       'male_angry', 'female_angry', 'male_fear', 'female_fear',\n",
       "       'female_fear', 'female_fear', 'male_fear', 'female_angry',\n",
       "       'female_disgust', 'male_fear', 'female_angry', 'female_disgust',\n",
       "       'male_disgust', 'male_sad', 'female_angry', 'male_disgust',\n",
       "       'male_sad', 'female_fear', 'male_sad', 'female_sad',\n",
       "       'female_angry', 'male_sad', 'female_sad', 'male_angry',\n",
       "       'male_fear', 'female_fear', 'male_fear', 'male_angry',\n",
       "       'female_sad', 'male_angry', 'male_angry', 'male_fear',\n",
       "       'male_angry', 'female_angry', 'male_fear', 'female_fear',\n",
       "       'female_angry', 'female_fear', 'male_angry', 'male_angry',\n",
       "       'male_fear', 'female_fear', 'male_angry', 'male_sad',\n",
       "       'female_disgust', 'male_angry', 'female_sad', 'female_angry',\n",
       "       'male_sad', 'male_angry', 'male_fear', 'male_disgust', 'male_fear',\n",
       "       'male_disgust', 'female_fear', 'male_sad', 'female_angry',\n",
       "       'female_fear', 'male_sad', 'male_angry', 'female_angry',\n",
       "       'female_angry', 'male_fear', 'female_angry', 'male_angry',\n",
       "       'male_angry', 'male_disgust', 'male_fear', 'female_fear',\n",
       "       'male_fear', 'male_sad', 'male_sad', 'female_fear', 'female_fear',\n",
       "       'male_disgust', 'female_sad', 'female_angry', 'male_disgust',\n",
       "       'female_fear', 'male_fear', 'male_angry', 'male_disgust',\n",
       "       'female_fear', 'female_fear', 'female_sad', 'male_angry',\n",
       "       'male_angry', 'female_sad', 'male_sad', 'female_disgust',\n",
       "       'male_angry', 'male_angry', 'female_angry', 'female_fear',\n",
       "       'male_sad', 'male_disgust', 'male_fear', 'male_angry', 'male_fear',\n",
       "       'male_fear', 'male_disgust', 'male_sad', 'female_sad', 'male_fear',\n",
       "       'female_sad', 'male_disgust', 'male_angry', 'female_angry',\n",
       "       'male_disgust', 'male_disgust', 'female_disgust', 'male_fear',\n",
       "       'male_angry', 'female_sad', 'female_sad', 'male_angry',\n",
       "       'female_disgust', 'female_angry', 'male_disgust', 'female_sad',\n",
       "       'male_fear', 'female_fear', 'male_angry', 'male_sad', 'female_sad',\n",
       "       'female_angry', 'female_sad', 'male_sad', 'female_angry',\n",
       "       'male_angry', 'female_sad', 'female_disgust', 'male_fear',\n",
       "       'female_disgust', 'male_fear', 'female_fear', 'male_angry',\n",
       "       'male_fear', 'female_disgust', 'male_sad', 'female_sad',\n",
       "       'female_disgust', 'male_fear', 'male_angry', 'female_sad',\n",
       "       'female_disgust', 'male_angry', 'female_angry', 'female_sad',\n",
       "       'male_fear', 'male_disgust', 'female_disgust', 'female_sad',\n",
       "       'male_fear', 'female_fear', 'male_sad', 'male_fear', 'male_angry',\n",
       "       'male_angry', 'male_disgust', 'female_fear', 'female_disgust',\n",
       "       'male_angry', 'female_sad', 'female_angry', 'female_fear',\n",
       "       'female_angry', 'male_fear', 'male_fear', 'male_sad',\n",
       "       'female_disgust', 'male_fear', 'male_sad', 'male_angry',\n",
       "       'male_fear', 'female_disgust', 'male_fear', 'female_angry',\n",
       "       'female_fear', 'female_angry', 'male_sad', 'male_fear',\n",
       "       'male_angry', 'female_fear', 'male_sad', 'male_sad', 'male_angry',\n",
       "       'male_sad', 'male_fear', 'male_fear', 'female_disgust',\n",
       "       'male_fear', 'female_sad', 'male_disgust', 'male_angry',\n",
       "       'male_sad', 'female_fear', 'male_fear', 'female_fear',\n",
       "       'female_disgust', 'female_angry', 'female_fear', 'female_sad',\n",
       "       'male_disgust', 'female_disgust', 'male_sad', 'male_angry',\n",
       "       'male_disgust', 'female_sad', 'male_disgust', 'female_sad',\n",
       "       'female_fear', 'male_angry', 'female_fear', 'male_disgust',\n",
       "       'female_fear', 'male_angry', 'female_angry', 'female_sad',\n",
       "       'male_sad', 'male_sad', 'male_disgust', 'female_sad', 'male_angry',\n",
       "       'male_angry', 'male_fear', 'male_disgust', 'male_fear',\n",
       "       'male_fear', 'female_sad', 'female_fear', 'female_sad',\n",
       "       'male_disgust', 'male_sad', 'female_disgust', 'female_fear',\n",
       "       'female_angry', 'female_sad', 'female_angry', 'male_fear',\n",
       "       'female_disgust', 'male_disgust', 'male_angry', 'female_sad',\n",
       "       'male_disgust', 'male_fear', 'female_fear', 'female_disgust',\n",
       "       'male_fear', 'female_fear', 'male_fear', 'female_fear',\n",
       "       'female_angry', 'female_angry', 'male_angry', 'male_angry',\n",
       "       'female_sad', 'male_fear', 'male_fear', 'female_fear',\n",
       "       'male_disgust', 'female_sad', 'male_sad', 'female_sad',\n",
       "       'male_angry', 'male_angry', 'female_fear', 'female_angry',\n",
       "       'male_fear', 'female_sad', 'male_disgust', 'male_sad',\n",
       "       'female_fear', 'male_disgust', 'male_sad', 'male_disgust',\n",
       "       'female_disgust', 'female_sad', 'female_sad', 'female_sad',\n",
       "       'female_fear', 'male_angry', 'male_sad', 'male_sad', 'female_fear',\n",
       "       'female_disgust', 'male_fear', 'male_sad', 'female_sad',\n",
       "       'female_fear', 'male_disgust', 'male_angry', 'male_fear',\n",
       "       'female_sad', 'female_angry', 'male_fear', 'female_disgust',\n",
       "       'female_sad', 'male_disgust', 'female_angry', 'male_sad',\n",
       "       'male_disgust', 'male_disgust', 'male_angry', 'female_fear',\n",
       "       'female_disgust', 'male_sad', 'female_fear', 'male_sad',\n",
       "       'female_disgust', 'female_angry', 'male_fear', 'female_calm',\n",
       "       'female_disgust', 'female_surprise', 'female_calm', 'female_fear',\n",
       "       'male_sad', 'male_surprise', 'male_disgust', 'male_angry',\n",
       "       'male_angry', 'male_fear', 'male_disgust', 'male_angry',\n",
       "       'female_calm', 'male_angry', 'female_fear', 'female_sad',\n",
       "       'male_sad', 'female_angry', 'female_fear', 'female_fear',\n",
       "       'male_disgust', 'female_disgust', 'male_sad', 'male_angry',\n",
       "       'male_sad', 'female_disgust', 'male_angry', 'female_fear',\n",
       "       'female_angry', 'female_angry', 'male_disgust', 'female_disgust',\n",
       "       'male_fear', 'male_angry', 'male_fear', 'male_sad',\n",
       "       'female_disgust', 'male_fear', 'female_angry', 'female_disgust',\n",
       "       'female_angry', 'male_fear', 'male_disgust', 'male_disgust',\n",
       "       'male_fear', 'female_disgust', 'male_sad', 'female_fear',\n",
       "       'female_fear', 'male_fear', 'male_sad', 'female_disgust',\n",
       "       'female_disgust', 'female_angry', 'female_happy'], dtype='<U32')"
      ]
     },
     "execution_count": 37,
     "metadata": {},
     "output_type": "execute_result"
    }
   ],
   "source": [
    "neg_true_y"
   ]
  },
  {
   "cell_type": "code",
   "execution_count": 38,
   "metadata": {},
   "outputs": [],
   "source": [
    "#replace any \"positive\" emotion with ('other')\n",
    "leng=len(neg_y)\n",
    "neg_true_y_modified=np.empty_like(neg_true_y)\n",
    "for i in range(leng):\n",
    "    \n",
    "    \n",
    "    if(neg_true_y[i] == 'male_happy' or neg_true_y[i] == 'female_happy' or neg_true_y[i]== 'female_calm' or neg_true_y[i] == 'male_calm' or neg_true_y[i] == 'female_surprise' or neg_true_y[i] == 'male_surprise'):\n",
    "        neg_true_y_modified[i]='other'\n",
    "    else:\n",
    "        neg_true_y_modified[i]=neg_true_y[i]"
   ]
  },
  {
   "cell_type": "code",
   "execution_count": 39,
   "metadata": {
    "scrolled": true
   },
   "outputs": [
    {
     "data": {
      "text/plain": [
       "array(['female_angry', 'female_disgust', 'female_fear', 'female_sad',\n",
       "       'male_angry', 'male_disgust', 'male_fear', 'male_sad', 'other'],\n",
       "      dtype='<U32')"
      ]
     },
     "execution_count": 39,
     "metadata": {},
     "output_type": "execute_result"
    }
   ],
   "source": [
    "#other for male and female ???\n",
    "np.unique(neg_true_y_modified)\n"
   ]
  },
  {
   "cell_type": "code",
   "execution_count": 40,
   "metadata": {},
   "outputs": [
    {
     "data": {
      "text/plain": [
       "array(['male_angry', 'male_angry', 'female_fear', 'male_fear',\n",
       "       'female_sad', 'male_fear', 'female_fear', 'male_sad',\n",
       "       'female_fear', 'male_sad', 'male_angry', 'female_angry',\n",
       "       'female_sad', 'male_angry', 'female_sad', 'male_fear',\n",
       "       'female_angry', 'female_disgust', 'male_fear', 'male_angry',\n",
       "       'female_sad', 'female_fear', 'female_sad', 'female_angry',\n",
       "       'female_angry', 'male_sad', 'male_disgust', 'female_fear',\n",
       "       'female_sad', 'male_sad', 'female_fear', 'female_disgust',\n",
       "       'female_fear', 'male_sad', 'female_sad', 'female_angry',\n",
       "       'male_disgust', 'female_sad', 'male_disgust', 'female_fear',\n",
       "       'male_fear', 'female_angry', 'female_angry', 'female_sad',\n",
       "       'female_disgust', 'female_fear', 'male_sad', 'female_disgust',\n",
       "       'female_sad', 'male_sad', 'female_sad', 'female_sad',\n",
       "       'male_disgust', 'female_angry', 'female_angry', 'male_disgust',\n",
       "       'female_angry', 'male_disgust', 'female_sad', 'male_angry',\n",
       "       'male_sad', 'male_angry', 'male_angry', 'female_disgust',\n",
       "       'male_sad', 'male_angry', 'male_angry', 'female_disgust',\n",
       "       'male_sad', 'male_sad', 'male_angry', 'male_angry', 'female_angry',\n",
       "       'female_angry', 'female_sad', 'male_disgust', 'male_sad',\n",
       "       'female_disgust', 'male_sad', 'female_fear', 'female_angry',\n",
       "       'female_disgust', 'female_angry', 'male_sad', 'male_angry',\n",
       "       'female_angry', 'female_disgust', 'male_sad', 'female_fear',\n",
       "       'female_sad', 'female_sad', 'male_disgust', 'male_angry',\n",
       "       'male_angry', 'female_fear', 'female_fear', 'male_sad',\n",
       "       'female_sad', 'female_fear', 'male_sad', 'male_disgust',\n",
       "       'male_disgust', 'female_disgust', 'male_disgust', 'female_disgust',\n",
       "       'male_sad', 'female_disgust', 'female_fear', 'female_disgust',\n",
       "       'male_disgust', 'female_disgust', 'female_angry', 'female_angry',\n",
       "       'female_disgust', 'male_sad', 'female_disgust', 'male_sad',\n",
       "       'female_fear', 'male_sad', 'female_disgust', 'female_sad',\n",
       "       'male_disgust', 'male_disgust', 'male_disgust', 'female_disgust',\n",
       "       'male_disgust', 'female_angry', 'female_angry', 'male_sad',\n",
       "       'female_sad', 'male_fear', 'male_disgust', 'female_sad',\n",
       "       'female_disgust', 'male_sad', 'male_fear', 'male_disgust',\n",
       "       'male_sad', 'male_angry', 'female_disgust', 'female_angry',\n",
       "       'female_sad', 'male_angry', 'female_sad', 'female_disgust',\n",
       "       'female_angry', 'male_fear', 'female_fear', 'male_fear',\n",
       "       'female_fear', 'male_disgust', 'male_disgust', 'male_fear',\n",
       "       'female_disgust', 'female_disgust', 'female_disgust',\n",
       "       'female_fear', 'female_sad', 'male_fear', 'male_disgust',\n",
       "       'male_fear', 'male_fear', 'female_angry', 'female_disgust',\n",
       "       'female_disgust', 'male_angry', 'female_fear', 'female_fear',\n",
       "       'male_fear', 'male_fear', 'female_angry', 'male_fear',\n",
       "       'male_disgust', 'female_disgust', 'female_disgust',\n",
       "       'female_disgust', 'male_disgust', 'male_disgust', 'female_disgust',\n",
       "       'male_disgust', 'female_sad', 'male_disgust', 'female_angry',\n",
       "       'female_angry', 'female_fear', 'male_fear', 'female_disgust',\n",
       "       'female_angry', 'male_disgust', 'male_disgust', 'male_disgust',\n",
       "       'male_sad', 'female_sad', 'female_disgust', 'male_disgust',\n",
       "       'male_disgust', 'male_fear', 'male_disgust', 'male_angry',\n",
       "       'male_sad', 'female_fear', 'female_fear', 'female_angry',\n",
       "       'female_angry', 'female_angry', 'male_angry', 'female_fear',\n",
       "       'male_disgust', 'male_sad', 'male_angry', 'female_sad',\n",
       "       'female_disgust', 'male_disgust', 'female_sad', 'female_angry',\n",
       "       'male_angry', 'male_sad', 'female_fear', 'female_disgust',\n",
       "       'female_sad', 'male_fear', 'male_fear', 'male_sad', 'female_sad',\n",
       "       'male_sad', 'female_fear', 'female_angry', 'female_disgust',\n",
       "       'male_disgust', 'male_sad', 'female_disgust', 'female_fear',\n",
       "       'female_angry', 'female_disgust', 'male_fear', 'female_sad',\n",
       "       'female_sad', 'female_sad', 'female_fear', 'female_fear',\n",
       "       'female_angry', 'male_sad', 'male_angry', 'male_sad',\n",
       "       'female_fear', 'female_angry', 'male_sad', 'female_sad',\n",
       "       'male_fear', 'male_sad', 'female_fear', 'female_angry',\n",
       "       'male_disgust', 'female_disgust', 'female_disgust', 'male_sad',\n",
       "       'female_angry', 'female_sad', 'female_sad', 'male_disgust',\n",
       "       'male_fear', 'female_fear', 'female_sad', 'male_fear',\n",
       "       'female_disgust', 'female_sad', 'male_sad', 'male_angry',\n",
       "       'female_angry', 'male_disgust', 'male_fear', 'male_fear',\n",
       "       'female_angry', 'female_disgust', 'female_disgust', 'male_disgust',\n",
       "       'female_sad', 'female_disgust', 'female_disgust', 'female_sad',\n",
       "       'female_sad', 'female_disgust', 'female_sad', 'male_disgust',\n",
       "       'female_sad', 'female_angry', 'female_angry', 'female_fear',\n",
       "       'male_angry', 'female_fear', 'female_sad', 'female_sad',\n",
       "       'female_angry', 'female_disgust', 'female_angry', 'male_angry',\n",
       "       'male_disgust', 'female_sad', 'female_angry', 'female_angry',\n",
       "       'male_angry', 'female_angry', 'female_angry', 'female_sad',\n",
       "       'female_fear', 'female_disgust', 'female_sad', 'male_fear',\n",
       "       'female_sad', 'female_fear', 'female_fear', 'male_disgust',\n",
       "       'male_angry', 'male_disgust', 'male_disgust', 'female_angry',\n",
       "       'female_disgust', 'female_disgust', 'female_angry', 'male_disgust',\n",
       "       'male_fear', 'female_angry', 'female_fear', 'male_sad', 'male_sad',\n",
       "       'female_angry', 'female_disgust', 'male_angry', 'male_sad',\n",
       "       'male_fear', 'male_disgust', 'female_fear', 'male_sad', 'male_sad',\n",
       "       'female_fear', 'female_fear', 'male_sad', 'male_angry',\n",
       "       'female_sad', 'male_sad', 'male_angry', 'male_angry',\n",
       "       'female_angry', 'female_angry', 'male_fear', 'male_sad',\n",
       "       'male_disgust', 'male_fear', 'male_sad', 'male_disgust',\n",
       "       'female_sad', 'male_disgust', 'female_disgust', 'female_disgust',\n",
       "       'male_angry', 'male_disgust', 'female_angry', 'male_angry',\n",
       "       'female_angry', 'male_disgust', 'male_angry', 'female_disgust',\n",
       "       'male_disgust', 'male_sad', 'female_disgust', 'male_sad',\n",
       "       'female_disgust', 'male_sad', 'female_disgust', 'male_fear',\n",
       "       'male_angry', 'male_fear', 'male_angry', 'female_fear',\n",
       "       'female_angry', 'male_disgust', 'female_angry', 'female_angry',\n",
       "       'female_sad', 'female_disgust', 'female_sad', 'female_sad',\n",
       "       'female_disgust', 'female_fear', 'male_sad', 'female_fear',\n",
       "       'male_disgust', 'male_angry', 'male_fear', 'female_fear',\n",
       "       'female_disgust', 'female_disgust', 'male_disgust', 'male_disgust',\n",
       "       'male_fear', 'female_sad', 'female_sad', 'female_disgust',\n",
       "       'male_angry', 'female_angry', 'male_fear', 'female_fear',\n",
       "       'female_fear', 'female_fear', 'male_fear', 'female_angry',\n",
       "       'female_disgust', 'male_fear', 'female_angry', 'female_disgust',\n",
       "       'male_disgust', 'male_sad', 'female_angry', 'male_disgust',\n",
       "       'male_sad', 'female_fear', 'male_sad', 'female_sad',\n",
       "       'female_angry', 'male_sad', 'female_sad', 'male_angry',\n",
       "       'male_fear', 'female_fear', 'male_fear', 'male_angry',\n",
       "       'female_sad', 'male_angry', 'male_angry', 'male_fear',\n",
       "       'male_angry', 'female_angry', 'male_fear', 'female_fear',\n",
       "       'female_angry', 'female_fear', 'male_angry', 'male_angry',\n",
       "       'male_fear', 'female_fear', 'male_angry', 'male_sad',\n",
       "       'female_disgust', 'male_angry', 'female_sad', 'female_angry',\n",
       "       'male_sad', 'male_angry', 'male_fear', 'male_disgust', 'male_fear',\n",
       "       'male_disgust', 'female_fear', 'male_sad', 'female_angry',\n",
       "       'female_fear', 'male_sad', 'male_angry', 'female_angry',\n",
       "       'female_angry', 'male_fear', 'female_angry', 'male_angry',\n",
       "       'male_angry', 'male_disgust', 'male_fear', 'female_fear',\n",
       "       'male_fear', 'male_sad', 'male_sad', 'female_fear', 'female_fear',\n",
       "       'male_disgust', 'female_sad', 'female_angry', 'male_disgust',\n",
       "       'female_fear', 'male_fear', 'male_angry', 'male_disgust',\n",
       "       'female_fear', 'female_fear', 'female_sad', 'male_angry',\n",
       "       'male_angry', 'female_sad', 'male_sad', 'female_disgust',\n",
       "       'male_angry', 'male_angry', 'female_angry', 'female_fear',\n",
       "       'male_sad', 'male_disgust', 'male_fear', 'male_angry', 'male_fear',\n",
       "       'male_fear', 'male_disgust', 'male_sad', 'female_sad', 'male_fear',\n",
       "       'female_sad', 'male_disgust', 'male_angry', 'female_angry',\n",
       "       'male_disgust', 'male_disgust', 'female_disgust', 'male_fear',\n",
       "       'male_angry', 'female_sad', 'female_sad', 'male_angry',\n",
       "       'female_disgust', 'female_angry', 'male_disgust', 'female_sad',\n",
       "       'male_fear', 'female_fear', 'male_angry', 'male_sad', 'female_sad',\n",
       "       'female_angry', 'female_sad', 'male_sad', 'female_angry',\n",
       "       'male_angry', 'female_sad', 'female_disgust', 'male_fear',\n",
       "       'female_disgust', 'male_fear', 'female_fear', 'male_angry',\n",
       "       'male_fear', 'female_disgust', 'male_sad', 'female_sad',\n",
       "       'female_disgust', 'male_fear', 'male_angry', 'female_sad',\n",
       "       'female_disgust', 'male_angry', 'female_angry', 'female_sad',\n",
       "       'male_fear', 'male_disgust', 'female_disgust', 'female_sad',\n",
       "       'male_fear', 'female_fear', 'male_sad', 'male_fear', 'male_angry',\n",
       "       'male_angry', 'male_disgust', 'female_fear', 'female_disgust',\n",
       "       'male_angry', 'female_sad', 'female_angry', 'female_fear',\n",
       "       'female_angry', 'male_fear', 'male_fear', 'male_sad',\n",
       "       'female_disgust', 'male_fear', 'male_sad', 'male_angry',\n",
       "       'male_fear', 'female_disgust', 'male_fear', 'female_angry',\n",
       "       'female_fear', 'female_angry', 'male_sad', 'male_fear',\n",
       "       'male_angry', 'female_fear', 'male_sad', 'male_sad', 'male_angry',\n",
       "       'male_sad', 'male_fear', 'male_fear', 'female_disgust',\n",
       "       'male_fear', 'female_sad', 'male_disgust', 'male_angry',\n",
       "       'male_sad', 'female_fear', 'male_fear', 'female_fear',\n",
       "       'female_disgust', 'female_angry', 'female_fear', 'female_sad',\n",
       "       'male_disgust', 'female_disgust', 'male_sad', 'male_angry',\n",
       "       'male_disgust', 'female_sad', 'male_disgust', 'female_sad',\n",
       "       'female_fear', 'male_angry', 'female_fear', 'male_disgust',\n",
       "       'female_fear', 'male_angry', 'female_angry', 'female_sad',\n",
       "       'male_sad', 'male_sad', 'male_disgust', 'female_sad', 'male_angry',\n",
       "       'male_angry', 'male_fear', 'male_disgust', 'male_fear',\n",
       "       'male_fear', 'female_sad', 'female_fear', 'female_sad',\n",
       "       'male_disgust', 'male_sad', 'female_disgust', 'female_fear',\n",
       "       'female_angry', 'female_sad', 'female_angry', 'male_fear',\n",
       "       'female_disgust', 'male_disgust', 'male_angry', 'female_sad',\n",
       "       'male_disgust', 'male_fear', 'female_fear', 'female_disgust',\n",
       "       'male_fear', 'female_fear', 'male_fear', 'female_fear',\n",
       "       'female_angry', 'female_angry', 'male_angry', 'male_angry',\n",
       "       'female_sad', 'male_fear', 'male_fear', 'female_fear',\n",
       "       'male_disgust', 'female_sad', 'male_sad', 'female_sad',\n",
       "       'male_angry', 'male_angry', 'female_fear', 'female_angry',\n",
       "       'male_fear', 'female_sad', 'male_disgust', 'male_sad',\n",
       "       'female_fear', 'male_disgust', 'male_sad', 'male_disgust',\n",
       "       'female_disgust', 'female_sad', 'female_sad', 'female_sad',\n",
       "       'female_fear', 'male_angry', 'male_sad', 'male_sad', 'female_fear',\n",
       "       'female_disgust', 'male_fear', 'male_sad', 'female_sad',\n",
       "       'female_fear', 'male_disgust', 'male_angry', 'male_fear',\n",
       "       'female_sad', 'female_angry', 'male_fear', 'female_disgust',\n",
       "       'female_sad', 'male_disgust', 'female_angry', 'male_sad',\n",
       "       'male_disgust', 'male_disgust', 'male_angry', 'female_fear',\n",
       "       'female_disgust', 'male_sad', 'female_fear', 'male_sad',\n",
       "       'female_disgust', 'female_angry', 'male_fear', 'female_calm',\n",
       "       'female_disgust', 'female_surprise', 'female_calm', 'female_fear',\n",
       "       'male_sad', 'male_surprise', 'male_disgust', 'male_angry',\n",
       "       'male_angry', 'male_fear', 'male_disgust', 'male_angry',\n",
       "       'female_calm', 'male_angry', 'female_fear', 'female_sad',\n",
       "       'male_sad', 'female_angry', 'female_fear', 'female_fear',\n",
       "       'male_disgust', 'female_disgust', 'male_sad', 'male_angry',\n",
       "       'male_sad', 'female_disgust', 'male_angry', 'female_fear',\n",
       "       'female_angry', 'female_angry', 'male_disgust', 'female_disgust',\n",
       "       'male_fear', 'male_angry', 'male_fear', 'male_sad',\n",
       "       'female_disgust', 'male_fear', 'female_angry', 'female_disgust',\n",
       "       'female_angry', 'male_fear', 'male_disgust', 'male_disgust',\n",
       "       'male_fear', 'female_disgust', 'male_sad', 'female_fear',\n",
       "       'female_fear', 'male_fear', 'male_sad', 'female_disgust',\n",
       "       'female_disgust', 'female_angry', 'female_happy'], dtype='<U32')"
      ]
     },
     "execution_count": 40,
     "metadata": {},
     "output_type": "execute_result"
    }
   ],
   "source": [
    "neg_true_y"
   ]
  },
  {
   "cell_type": "code",
   "execution_count": null,
   "metadata": {},
   "outputs": [],
   "source": [
    "# female_calm        144\n",
    "# male_calm          144\n",
    "# male_angry          96\n",
    "# male_surprise       96\n",
    "# female_happy        96\n",
    "# female_disgust      96\n",
    "# female_fear         96\n",
    "# female_sad          96\n",
    "# male_fear           96\n",
    "# female_surprise     96\n",
    "# female_angry        96\n",
    "# male_sad            96\n",
    "# male_disgust        96\n",
    "# male_happy          96"
   ]
  },
  {
   "cell_type": "code",
   "execution_count": 41,
   "metadata": {},
   "outputs": [],
   "source": [
    "#replace any \"positive\" emotion with ('other')\n",
    "leng=len(pos_y)\n",
    "pos_true_y_modified=np.empty_like(pos_true_y)\n",
    "for i in range(leng):\n",
    "    \n",
    "    \n",
    "    if(pos_true_y[i] == 'male_happy' or pos_true_y[i] == 'female_happy' or pos_true_y[i]== 'female_calm' or pos_true_y[i] == 'male_calm' or pos_true_y[i] == 'female_surprise' or pos_true_y[i] == 'male_surprise'):\n",
    "        pos_true_y_modified[i]=pos_true_y[i]\n",
    "    else:\n",
    "        pos_true_y_modified[i]='other'"
   ]
  },
  {
   "cell_type": "code",
   "execution_count": 42,
   "metadata": {},
   "outputs": [
    {
     "data": {
      "text/plain": [
       "array(['male_happy', 'male_calm', 'male_surprise', 'female_calm',\n",
       "       'female_happy', 'male_calm', 'male_surprise', 'female_happy',\n",
       "       'female_calm', 'female_calm', 'female_surprise', 'female_calm',\n",
       "       'female_calm', 'male_surprise', 'male_happy', 'female_happy',\n",
       "       'female_happy', 'female_calm', 'male_calm', 'female_surprise',\n",
       "       'female_calm', 'male_surprise', 'female_surprise', 'female_calm',\n",
       "       'male_surprise', 'male_calm', 'male_happy', 'male_surprise',\n",
       "       'female_happy', 'female_surprise', 'female_calm',\n",
       "       'female_surprise', 'male_surprise', 'male_surprise', 'female_calm',\n",
       "       'male_calm', 'female_surprise', 'female_surprise', 'male_calm',\n",
       "       'male_calm', 'female_surprise', 'male_calm', 'male_happy',\n",
       "       'female_happy', 'male_calm', 'male_calm', 'male_calm', 'male_calm',\n",
       "       'female_surprise', 'female_calm', 'male_calm', 'female_calm',\n",
       "       'female_calm', 'female_calm', 'male_calm', 'female_surprise',\n",
       "       'female_surprise', 'male_calm', 'female_happy', 'male_calm',\n",
       "       'male_surprise', 'male_happy', 'male_happy', 'female_happy',\n",
       "       'male_happy', 'female_calm', 'female_happy', 'female_surprise',\n",
       "       'male_calm', 'male_surprise', 'female_surprise', 'female_surprise',\n",
       "       'female_calm', 'male_calm', 'female_calm', 'male_surprise',\n",
       "       'female_calm', 'female_happy', 'female_calm', 'female_surprise',\n",
       "       'female_calm', 'male_happy', 'male_calm', 'male_surprise',\n",
       "       'male_calm', 'female_surprise', 'female_calm', 'male_happy',\n",
       "       'female_happy', 'male_calm', 'male_calm', 'male_surprise',\n",
       "       'female_happy', 'male_calm', 'male_happy', 'female_happy',\n",
       "       'female_surprise', 'male_surprise', 'male_happy', 'female_calm',\n",
       "       'male_calm', 'male_happy', 'male_surprise', 'female_calm',\n",
       "       'female_calm', 'female_surprise', 'male_surprise', 'male_calm',\n",
       "       'male_calm', 'male_happy', 'female_happy', 'female_happy',\n",
       "       'female_calm', 'female_calm', 'male_calm', 'female_calm',\n",
       "       'male_surprise', 'female_calm', 'female_happy', 'male_calm',\n",
       "       'female_happy', 'male_happy', 'female_happy', 'female_calm',\n",
       "       'male_happy', 'male_calm', 'male_happy', 'male_surprise',\n",
       "       'female_calm', 'male_surprise', 'female_happy', 'female_happy',\n",
       "       'female_happy', 'male_happy', 'female_surprise', 'female_calm',\n",
       "       'female_surprise', 'female_calm', 'female_calm', 'male_calm',\n",
       "       'female_surprise', 'female_surprise', 'male_calm', 'male_surprise',\n",
       "       'female_calm', 'male_surprise', 'male_happy', 'female_calm',\n",
       "       'female_surprise', 'male_happy', 'male_calm', 'male_happy',\n",
       "       'male_calm', 'male_surprise', 'female_calm', 'female_happy',\n",
       "       'male_happy', 'male_surprise', 'male_calm', 'male_surprise',\n",
       "       'male_happy', 'female_calm', 'female_happy', 'male_calm',\n",
       "       'female_happy', 'female_calm', 'male_happy', 'female_happy',\n",
       "       'male_happy', 'female_happy', 'male_happy', 'male_happy',\n",
       "       'male_surprise', 'female_surprise', 'male_happy', 'male_surprise',\n",
       "       'female_calm', 'male_surprise', 'female_surprise', 'male_happy',\n",
       "       'male_happy', 'male_happy', 'male_calm', 'male_calm', 'male_calm',\n",
       "       'female_happy', 'male_surprise', 'female_calm', 'male_calm',\n",
       "       'male_happy', 'female_happy', 'female_surprise', 'female_calm',\n",
       "       'female_surprise', 'male_calm', 'male_calm', 'male_happy',\n",
       "       'male_happy', 'female_happy', 'female_happy', 'male_calm',\n",
       "       'female_calm', 'female_happy', 'female_happy', 'female_happy',\n",
       "       'male_happy', 'female_calm', 'male_calm', 'female_surprise',\n",
       "       'male_surprise', 'male_calm', 'female_happy', 'male_calm',\n",
       "       'female_happy', 'female_calm', 'male_calm', 'male_calm',\n",
       "       'male_calm', 'female_calm', 'male_happy', 'female_happy',\n",
       "       'female_happy', 'male_happy', 'female_calm', 'female_calm',\n",
       "       'male_happy', 'male_surprise', 'male_calm', 'female_happy',\n",
       "       'female_happy', 'female_happy', 'male_happy', 'male_surprise',\n",
       "       'male_calm', 'female_surprise', 'female_calm', 'female_happy',\n",
       "       'female_surprise', 'female_calm', 'male_calm', 'female_surprise',\n",
       "       'male_surprise', 'female_calm', 'female_calm', 'female_calm',\n",
       "       'female_calm', 'male_happy', 'male_surprise', 'female_calm',\n",
       "       'male_calm', 'male_calm', 'female_calm', 'male_surprise',\n",
       "       'female_happy', 'female_calm', 'male_happy', 'female_surprise',\n",
       "       'female_surprise', 'female_calm', 'female_surprise',\n",
       "       'female_happy', 'male_calm', 'female_happy', 'female_calm',\n",
       "       'female_surprise', 'male_happy', 'male_calm', 'female_happy',\n",
       "       'male_calm', 'female_happy', 'female_happy', 'female_happy',\n",
       "       'female_calm', 'male_surprise', 'male_calm', 'male_happy',\n",
       "       'female_calm', 'female_surprise', 'male_happy', 'female_surprise',\n",
       "       'male_calm', 'male_calm', 'female_calm', 'male_calm', 'male_happy',\n",
       "       'female_surprise', 'female_surprise', 'female_happy', 'male_calm',\n",
       "       'male_calm', 'male_happy', 'male_calm', 'male_calm',\n",
       "       'male_surprise', 'male_surprise', 'female_calm', 'female_surprise',\n",
       "       'male_calm', 'female_calm', 'female_surprise', 'female_calm',\n",
       "       'female_surprise', 'male_happy', 'male_happy', 'male_happy',\n",
       "       'male_happy', 'male_calm', 'female_surprise', 'female_calm',\n",
       "       'male_surprise', 'male_calm', 'female_happy', 'female_calm',\n",
       "       'male_calm', 'female_surprise', 'male_happy', 'female_calm',\n",
       "       'female_calm', 'male_calm', 'male_calm', 'female_surprise',\n",
       "       'male_surprise', 'female_happy', 'male_surprise', 'male_calm',\n",
       "       'female_calm', 'female_surprise', 'female_happy', 'female_calm',\n",
       "       'female_calm', 'male_surprise', 'male_calm', 'female_calm',\n",
       "       'male_calm', 'female_calm', 'male_happy', 'female_surprise',\n",
       "       'male_calm', 'male_happy', 'female_calm', 'female_happy',\n",
       "       'male_surprise', 'male_surprise', 'male_calm', 'female_happy',\n",
       "       'male_calm', 'male_surprise', 'male_calm', 'female_surprise',\n",
       "       'male_happy', 'male_happy', 'female_calm', 'female_happy',\n",
       "       'male_happy', 'female_calm', 'male_calm', 'female_surprise',\n",
       "       'female_calm', 'male_happy', 'male_calm', 'male_calm',\n",
       "       'male_happy', 'female_surprise', 'female_happy', 'female_happy',\n",
       "       'female_surprise', 'male_calm', 'male_surprise', 'male_happy',\n",
       "       'female_calm', 'female_calm', 'female_surprise', 'female_calm',\n",
       "       'male_calm', 'male_calm', 'male_calm', 'male_calm', 'male_happy',\n",
       "       'female_happy', 'female_calm', 'male_surprise', 'female_calm',\n",
       "       'female_calm', 'male_happy', 'female_calm', 'female_happy',\n",
       "       'female_happy', 'male_calm', 'male_surprise', 'male_happy',\n",
       "       'male_surprise', 'female_happy', 'female_surprise', 'female_happy',\n",
       "       'male_happy', 'female_surprise', 'male_surprise', 'male_calm',\n",
       "       'male_calm', 'male_calm', 'male_surprise', 'male_calm',\n",
       "       'male_surprise', 'male_happy', 'male_surprise', 'female_calm',\n",
       "       'female_calm', 'male_surprise', 'male_calm', 'female_happy',\n",
       "       'male_calm', 'male_surprise', 'female_surprise', 'male_calm',\n",
       "       'female_calm', 'female_calm', 'female_happy', 'female_calm',\n",
       "       'female_calm', 'male_calm', 'male_surprise', 'female_calm',\n",
       "       'male_happy', 'male_surprise', 'female_calm', 'female_surprise',\n",
       "       'female_calm', 'female_surprise', 'female_calm', 'female_happy',\n",
       "       'female_surprise', 'female_calm', 'male_calm', 'male_calm',\n",
       "       'female_happy', 'female_calm', 'female_surprise',\n",
       "       'female_surprise', 'male_surprise', 'male_calm', 'male_surprise',\n",
       "       'male_surprise', 'male_calm', 'female_calm', 'female_surprise',\n",
       "       'female_surprise', 'female_surprise', 'female_calm',\n",
       "       'female_happy', 'male_calm', 'female_surprise', 'male_calm',\n",
       "       'male_surprise', 'male_happy', 'female_calm', 'male_surprise',\n",
       "       'male_calm', 'female_calm', 'male_calm', 'male_calm', 'male_happy',\n",
       "       'male_surprise', 'male_happy', 'male_calm', 'female_calm',\n",
       "       'male_calm', 'male_calm', 'female_calm', 'female_calm',\n",
       "       'male_happy', 'female_surprise', 'male_calm', 'female_surprise',\n",
       "       'male_happy', 'female_surprise', 'female_calm', 'male_surprise',\n",
       "       'male_surprise', 'male_calm', 'female_surprise', 'female_happy',\n",
       "       'female_happy', 'male_calm', 'female_happy', 'male_calm',\n",
       "       'female_surprise', 'female_happy', 'male_calm', 'male_surprise',\n",
       "       'female_happy', 'female_calm', 'male_surprise', 'male_fear',\n",
       "       'female_happy', 'female_calm', 'male_fear', 'male_calm',\n",
       "       'male_surprise', 'male_happy', 'male_surprise', 'male_surprise',\n",
       "       'female_surprise', 'female_calm', 'male_calm', 'female_surprise',\n",
       "       'male_surprise', 'female_calm', 'female_calm', 'male_calm',\n",
       "       'female_happy', 'male_surprise', 'male_calm', 'male_calm',\n",
       "       'female_surprise', 'male_calm', 'female_happy', 'female_calm',\n",
       "       'male_happy', 'male_calm', 'female_surprise', 'male_surprise',\n",
       "       'male_surprise', 'male_surprise', 'female_calm', 'female_surprise',\n",
       "       'male_surprise', 'female_happy', 'female_happy', 'male_happy',\n",
       "       'male_surprise', 'male_calm', 'female_happy', 'male_surprise',\n",
       "       'female_happy', 'female_calm', 'female_calm', 'female_surprise',\n",
       "       'male_happy', 'male_calm', 'female_calm', 'female_calm',\n",
       "       'female_happy', 'female_happy', 'male_calm', 'female_calm',\n",
       "       'male_happy', 'male_calm', 'male_calm', 'male_surprise',\n",
       "       'male_happy', 'male_surprise', 'male_happy', 'male_surprise',\n",
       "       'female_surprise', 'male_calm', 'female_happy', 'female_calm',\n",
       "       'male_happy', 'male_happy', 'male_happy', 'female_calm',\n",
       "       'female_calm', 'female_surprise', 'female_surprise',\n",
       "       'male_surprise', 'male_surprise', 'female_happy',\n",
       "       'female_surprise', 'male_calm', 'female_calm', 'female_calm',\n",
       "       'male_surprise', 'male_surprise', 'male_surprise', 'male_calm',\n",
       "       'male_happy', 'female_happy', 'male_calm', 'male_calm',\n",
       "       'female_happy', 'female_calm', 'female_surprise', 'female_calm',\n",
       "       'male_happy', 'male_calm', 'female_surprise', 'male_happy',\n",
       "       'male_happy', 'male_happy', 'female_surprise', 'male_happy',\n",
       "       'male_happy', 'male_calm', 'female_happy', 'male_calm',\n",
       "       'male_happy', 'male_calm', 'female_calm', 'female_calm',\n",
       "       'male_calm', 'female_calm', 'female_surprise', 'male_calm',\n",
       "       'female_surprise', 'female_calm', 'male_sad', 'male_surprise',\n",
       "       'male_surprise', 'male_happy', 'male_surprise', 'male_calm',\n",
       "       'female_happy', 'male_angry', 'male_calm', 'female_calm',\n",
       "       'male_surprise', 'male_calm', 'female_calm', 'male_calm',\n",
       "       'female_surprise', 'male_surprise', 'female_calm', 'female_calm',\n",
       "       'female_calm', 'female_surprise', 'male_happy', 'male_calm',\n",
       "       'male_surprise', 'male_surprise', 'female_surprise',\n",
       "       'female_happy', 'female_calm', 'female_happy', 'female_surprise',\n",
       "       'female_calm', 'female_happy', 'male_surprise', 'male_calm',\n",
       "       'female_surprise', 'male_happy', 'female_happy', 'female_surprise',\n",
       "       'male_calm', 'female_happy', 'female_calm', 'male_happy',\n",
       "       'female_calm', 'female_calm', 'female_calm', 'female_calm',\n",
       "       'male_surprise', 'male_happy', 'female_happy', 'male_surprise',\n",
       "       'female_surprise', 'female_happy', 'male_calm', 'female_surprise',\n",
       "       'female_surprise', 'male_calm', 'female_calm', 'female_surprise',\n",
       "       'male_fear', 'male_angry', 'female_surprise', 'male_happy',\n",
       "       'male_happy', 'male_happy', 'male_sad', 'female_happy',\n",
       "       'female_calm', 'male_calm', 'male_angry', 'male_happy'],\n",
       "      dtype='<U32')"
      ]
     },
     "execution_count": 42,
     "metadata": {},
     "output_type": "execute_result"
    }
   ],
   "source": [
    "pos_true_y"
   ]
  },
  {
   "cell_type": "code",
   "execution_count": 43,
   "metadata": {},
   "outputs": [
    {
     "data": {
      "text/plain": [
       "array(['female_calm', 'female_happy', 'female_surprise', 'male_calm',\n",
       "       'male_happy', 'male_surprise', 'other'], dtype='<U32')"
      ]
     },
     "execution_count": 43,
     "metadata": {},
     "output_type": "execute_result"
    }
   ],
   "source": [
    "np.unique(pos_true_y_modified)"
   ]
  },
  {
   "cell_type": "code",
   "execution_count": 44,
   "metadata": {},
   "outputs": [
    {
     "data": {
      "text/plain": [
       "(766,)"
      ]
     },
     "execution_count": 44,
     "metadata": {},
     "output_type": "execute_result"
    }
   ],
   "source": [
    "neg_true_y.shape #male_happy "
   ]
  },
  {
   "cell_type": "code",
   "execution_count": 45,
   "metadata": {},
   "outputs": [
    {
     "data": {
      "text/plain": [
       "(766,)"
      ]
     },
     "execution_count": 45,
     "metadata": {},
     "output_type": "execute_result"
    }
   ],
   "source": [
    "neg_y.shape"
   ]
  },
  {
   "cell_type": "code",
   "execution_count": 46,
   "metadata": {},
   "outputs": [],
   "source": [
    "neg_x=neg_x.reshape((neg_y.shape[0],new_X.shape[1],new_X.shape[2],new_X.shape[3]))"
   ]
  },
  {
   "cell_type": "code",
   "execution_count": 47,
   "metadata": {},
   "outputs": [
    {
     "data": {
      "text/plain": [
       "(766, 30, 216, 1)"
      ]
     },
     "execution_count": 47,
     "metadata": {},
     "output_type": "execute_result"
    }
   ],
   "source": [
    "neg_x.shape"
   ]
  },
  {
   "cell_type": "code",
   "execution_count": 48,
   "metadata": {},
   "outputs": [],
   "source": [
    "pos_x=pos_x.reshape((pos_y.shape[0],new_X.shape[1],new_X.shape[2],new_X.shape[3]))"
   ]
  },
  {
   "cell_type": "code",
   "execution_count": 49,
   "metadata": {},
   "outputs": [
    {
     "data": {
      "text/plain": [
       "(674, 30, 216, 1)"
      ]
     },
     "execution_count": 49,
     "metadata": {},
     "output_type": "execute_result"
    }
   ],
   "source": [
    "pos_x.shape"
   ]
  },
  {
   "cell_type": "code",
   "execution_count": 50,
   "metadata": {},
   "outputs": [
    {
     "data": {
      "text/plain": [
       "30"
      ]
     },
     "execution_count": 50,
     "metadata": {},
     "output_type": "execute_result"
    }
   ],
   "source": [
    "new_X.shape[1]"
   ]
  },
  {
   "cell_type": "code",
   "execution_count": 51,
   "metadata": {},
   "outputs": [
    {
     "data": {
      "text/plain": [
       "766"
      ]
     },
     "execution_count": 51,
     "metadata": {},
     "output_type": "execute_result"
    }
   ],
   "source": [
    "neg_y.shape[0]"
   ]
  },
  {
   "cell_type": "code",
   "execution_count": 52,
   "metadata": {},
   "outputs": [],
   "source": [
    "new_X2=np.vstack((X_train,X_test))\n",
    "\n",
    "\n",
    "#new_y=np.vstack((preds_train,preds))\n",
    "\n",
    "new_y_all=np.append(y_train,y_test, axis=0)"
   ]
  },
  {
   "cell_type": "code",
   "execution_count": null,
   "metadata": {},
   "outputs": [],
   "source": [
    "print(neg_y_emo.size)\n",
    "print(neg_y.size)"
   ]
  },
  {
   "cell_type": "code",
   "execution_count": 246,
   "metadata": {},
   "outputs": [
    {
     "data": {
      "text/plain": [
       "(776, 30, 216, 1)"
      ]
     },
     "execution_count": 246,
     "metadata": {},
     "output_type": "execute_result"
    }
   ],
   "source": [
    "(neg_x.shape)"
   ]
  },
  {
   "cell_type": "code",
   "execution_count": null,
   "metadata": {},
   "outputs": [],
   "source": [
    "#so basically neg_y won't be used, right?\n"
   ]
  },
  {
   "cell_type": "code",
   "execution_count": null,
   "metadata": {},
   "outputs": [],
   "source": [
    "#neg_X is already extracted "
   ]
  },
  {
   "cell_type": "code",
   "execution_count": 53,
   "metadata": {},
   "outputs": [
    {
     "name": "stdout",
     "output_type": "stream",
     "text": [
      "(674,)\n",
      "(674, 30, 216, 1)\n"
     ]
    }
   ],
   "source": [
    "print(pos_true_y_modified.shape)\n",
    "print(pos_x.shape)"
   ]
  },
  {
   "cell_type": "code",
   "execution_count": 54,
   "metadata": {},
   "outputs": [
    {
     "data": {
      "text/plain": [
       "(766,)"
      ]
     },
     "execution_count": 54,
     "metadata": {},
     "output_type": "execute_result"
    }
   ],
   "source": [
    "neg_true_y_modified.shape"
   ]
  },
  {
   "cell_type": "code",
   "execution_count": 55,
   "metadata": {},
   "outputs": [],
   "source": [
    "from tensorflow.compat.v1 import ConfigProto\n",
    "from tensorflow.compat.v1 import InteractiveSession\n",
    "\n",
    "config = ConfigProto()\n",
    "config.gpu_options.allow_growth = True\n",
    "session = InteractiveSession(config=config)\n",
    "# Split between train and test \n",
    "X_train2, X_test2, y_train2, y_test2 = train_test_split(neg_x\n",
    "                                                    , neg_true_y_modified\n",
    "                                                    , test_size=0.1\n",
    "                                                    , shuffle=True\n",
    "                                                    , random_state=111\n",
    "                                                   )\n",
    "\n",
    "# one hot encode the target \n",
    "lb = LabelEncoder()\n",
    "y_train2 = np_utils.to_categorical(lb.fit_transform(y_train2))\n",
    "y_test2 = np_utils.to_categorical(lb.fit_transform(y_test2))\n",
    "\n",
    "# Normalization as per the standard NN process\n",
    "mean = np.mean(X_train2, axis=0)\n",
    "std = np.std(X_train2, axis=0)\n",
    "\n",
    "X_train2 = (X_train2 - mean)/std\n",
    "X_test2 = (X_test2 - mean)/std\n"
   ]
  },
  {
   "cell_type": "code",
   "execution_count": 56,
   "metadata": {
    "scrolled": true
   },
   "outputs": [
    {
     "data": {
      "text/plain": [
       "array([[0., 0., 1., 0., 0., 0., 0., 0., 0.],\n",
       "       [0., 0., 0., 0., 0., 1., 0., 0., 0.],\n",
       "       [0., 0., 0., 0., 1., 0., 0., 0., 0.],\n",
       "       [0., 0., 1., 0., 0., 0., 0., 0., 0.],\n",
       "       [0., 0., 0., 1., 0., 0., 0., 0., 0.],\n",
       "       [0., 1., 0., 0., 0., 0., 0., 0., 0.],\n",
       "       [0., 1., 0., 0., 0., 0., 0., 0., 0.],\n",
       "       [0., 0., 0., 1., 0., 0., 0., 0., 0.],\n",
       "       [0., 1., 0., 0., 0., 0., 0., 0., 0.],\n",
       "       [0., 0., 0., 0., 1., 0., 0., 0., 0.],\n",
       "       [0., 0., 0., 0., 0., 0., 1., 0., 0.],\n",
       "       [0., 0., 0., 0., 0., 1., 0., 0., 0.],\n",
       "       [0., 0., 1., 0., 0., 0., 0., 0., 0.],\n",
       "       [0., 0., 0., 0., 0., 0., 0., 1., 0.],\n",
       "       [1., 0., 0., 0., 0., 0., 0., 0., 0.],\n",
       "       [1., 0., 0., 0., 0., 0., 0., 0., 0.],\n",
       "       [0., 0., 0., 1., 0., 0., 0., 0., 0.],\n",
       "       [0., 1., 0., 0., 0., 0., 0., 0., 0.],\n",
       "       [0., 0., 0., 1., 0., 0., 0., 0., 0.],\n",
       "       [0., 0., 0., 0., 0., 1., 0., 0., 0.],\n",
       "       [0., 0., 0., 0., 0., 1., 0., 0., 0.],\n",
       "       [1., 0., 0., 0., 0., 0., 0., 0., 0.],\n",
       "       [1., 0., 0., 0., 0., 0., 0., 0., 0.],\n",
       "       [0., 0., 0., 0., 0., 1., 0., 0., 0.],\n",
       "       [0., 0., 0., 0., 0., 0., 1., 0., 0.],\n",
       "       [0., 0., 0., 0., 0., 1., 0., 0., 0.],\n",
       "       [0., 0., 1., 0., 0., 0., 0., 0., 0.],\n",
       "       [0., 0., 0., 1., 0., 0., 0., 0., 0.],\n",
       "       [0., 0., 0., 0., 0., 0., 0., 0., 1.],\n",
       "       [1., 0., 0., 0., 0., 0., 0., 0., 0.],\n",
       "       [1., 0., 0., 0., 0., 0., 0., 0., 0.],\n",
       "       [0., 0., 0., 0., 1., 0., 0., 0., 0.],\n",
       "       [0., 0., 0., 0., 0., 1., 0., 0., 0.],\n",
       "       [0., 0., 0., 0., 0., 1., 0., 0., 0.],\n",
       "       [0., 0., 1., 0., 0., 0., 0., 0., 0.],\n",
       "       [0., 0., 1., 0., 0., 0., 0., 0., 0.],\n",
       "       [0., 0., 0., 0., 0., 0., 1., 0., 0.],\n",
       "       [0., 1., 0., 0., 0., 0., 0., 0., 0.],\n",
       "       [0., 0., 0., 0., 0., 0., 1., 0., 0.],\n",
       "       [0., 1., 0., 0., 0., 0., 0., 0., 0.],\n",
       "       [0., 0., 1., 0., 0., 0., 0., 0., 0.],\n",
       "       [0., 0., 0., 0., 0., 0., 0., 1., 0.],\n",
       "       [0., 0., 0., 0., 0., 0., 1., 0., 0.],\n",
       "       [0., 0., 0., 1., 0., 0., 0., 0., 0.],\n",
       "       [0., 0., 0., 0., 0., 1., 0., 0., 0.],\n",
       "       [0., 0., 0., 0., 1., 0., 0., 0., 0.],\n",
       "       [0., 1., 0., 0., 0., 0., 0., 0., 0.],\n",
       "       [0., 0., 0., 1., 0., 0., 0., 0., 0.],\n",
       "       [0., 0., 0., 0., 0., 0., 0., 1., 0.],\n",
       "       [0., 0., 0., 1., 0., 0., 0., 0., 0.],\n",
       "       [0., 0., 1., 0., 0., 0., 0., 0., 0.],\n",
       "       [0., 0., 0., 0., 1., 0., 0., 0., 0.],\n",
       "       [0., 0., 1., 0., 0., 0., 0., 0., 0.],\n",
       "       [1., 0., 0., 0., 0., 0., 0., 0., 0.],\n",
       "       [0., 0., 0., 0., 0., 0., 1., 0., 0.],\n",
       "       [0., 0., 0., 0., 0., 1., 0., 0., 0.],\n",
       "       [1., 0., 0., 0., 0., 0., 0., 0., 0.],\n",
       "       [0., 1., 0., 0., 0., 0., 0., 0., 0.],\n",
       "       [1., 0., 0., 0., 0., 0., 0., 0., 0.],\n",
       "       [1., 0., 0., 0., 0., 0., 0., 0., 0.],\n",
       "       [0., 0., 0., 0., 0., 0., 0., 1., 0.],\n",
       "       [0., 0., 1., 0., 0., 0., 0., 0., 0.],\n",
       "       [1., 0., 0., 0., 0., 0., 0., 0., 0.],\n",
       "       [0., 0., 0., 1., 0., 0., 0., 0., 0.],\n",
       "       [0., 0., 0., 0., 0., 1., 0., 0., 0.],\n",
       "       [0., 0., 0., 0., 0., 0., 1., 0., 0.],\n",
       "       [0., 0., 0., 0., 0., 1., 0., 0., 0.],\n",
       "       [0., 0., 0., 0., 0., 0., 1., 0., 0.],\n",
       "       [0., 0., 0., 0., 0., 1., 0., 0., 0.],\n",
       "       [0., 0., 0., 0., 0., 0., 0., 1., 0.],\n",
       "       [0., 0., 0., 0., 0., 0., 1., 0., 0.],\n",
       "       [0., 0., 0., 0., 1., 0., 0., 0., 0.],\n",
       "       [0., 0., 0., 0., 0., 0., 0., 1., 0.],\n",
       "       [0., 0., 0., 1., 0., 0., 0., 0., 0.],\n",
       "       [0., 0., 0., 0., 1., 0., 0., 0., 0.],\n",
       "       [0., 0., 0., 1., 0., 0., 0., 0., 0.],\n",
       "       [1., 0., 0., 0., 0., 0., 0., 0., 0.]], dtype=float32)"
      ]
     },
     "execution_count": 56,
     "metadata": {},
     "output_type": "execute_result"
    }
   ],
   "source": [
    "y_test2"
   ]
  },
  {
   "cell_type": "code",
   "execution_count": 61,
   "metadata": {
    "scrolled": false
   },
   "outputs": [
    {
     "name": "stdout",
     "output_type": "stream",
     "text": [
      "Train on 689 samples, validate on 77 samples\n",
      "Epoch 1/40\n",
      "689/689 - 48s - loss: 2.0758 - acc: 0.2511 - val_loss: 1.7609 - val_acc: 0.4286\n",
      "Epoch 2/40\n",
      "689/689 - 41s - loss: 1.8092 - acc: 0.3149 - val_loss: 2.3174 - val_acc: 0.1558\n",
      "Epoch 3/40\n",
      "689/689 - 41s - loss: 1.6054 - acc: 0.4165 - val_loss: 2.2019 - val_acc: 0.1818\n",
      "Epoch 4/40\n",
      "689/689 - 37s - loss: 1.4483 - acc: 0.4557\n"
     ]
    },
    {
     "ename": "KeyboardInterrupt",
     "evalue": "",
     "output_type": "error",
     "traceback": [
      "\u001b[1;31m---------------------------------------------------------------------------\u001b[0m",
      "\u001b[1;31mKeyboardInterrupt\u001b[0m                         Traceback (most recent call last)",
      "\u001b[1;32m<ipython-input-61-b4da0b6545c1>\u001b[0m in \u001b[0;36m<module>\u001b[1;34m\u001b[0m\n\u001b[0;32m      2\u001b[0m \u001b[0mmodel\u001b[0m \u001b[1;33m=\u001b[0m \u001b[0mget_2d_conv_model\u001b[0m\u001b[1;33m(\u001b[0m\u001b[0mn\u001b[0m\u001b[1;33m=\u001b[0m\u001b[0mn_mfcc\u001b[0m\u001b[1;33m)\u001b[0m\u001b[1;33m\u001b[0m\u001b[1;33m\u001b[0m\u001b[0m\n\u001b[0;32m      3\u001b[0m model_history = model.fit(X_train2, y_train2, validation_data=(X_test2, y_test2), \n\u001b[1;32m----> 4\u001b[1;33m                     batch_size=16, verbose = 2, epochs=40)\n\u001b[0m",
      "\u001b[1;32m~\\Anaconda3\\lib\\site-packages\\tensorflow_core\\python\\keras\\engine\\training.py\u001b[0m in \u001b[0;36mfit\u001b[1;34m(self, x, y, batch_size, epochs, verbose, callbacks, validation_split, validation_data, shuffle, class_weight, sample_weight, initial_epoch, steps_per_epoch, validation_steps, validation_freq, max_queue_size, workers, use_multiprocessing, **kwargs)\u001b[0m\n\u001b[0;32m    726\u001b[0m         \u001b[0mmax_queue_size\u001b[0m\u001b[1;33m=\u001b[0m\u001b[0mmax_queue_size\u001b[0m\u001b[1;33m,\u001b[0m\u001b[1;33m\u001b[0m\u001b[1;33m\u001b[0m\u001b[0m\n\u001b[0;32m    727\u001b[0m         \u001b[0mworkers\u001b[0m\u001b[1;33m=\u001b[0m\u001b[0mworkers\u001b[0m\u001b[1;33m,\u001b[0m\u001b[1;33m\u001b[0m\u001b[1;33m\u001b[0m\u001b[0m\n\u001b[1;32m--> 728\u001b[1;33m         use_multiprocessing=use_multiprocessing)\n\u001b[0m\u001b[0;32m    729\u001b[0m \u001b[1;33m\u001b[0m\u001b[0m\n\u001b[0;32m    730\u001b[0m   def evaluate(self,\n",
      "\u001b[1;32m~\\Anaconda3\\lib\\site-packages\\tensorflow_core\\python\\keras\\engine\\training_v2.py\u001b[0m in \u001b[0;36mfit\u001b[1;34m(self, model, x, y, batch_size, epochs, verbose, callbacks, validation_split, validation_data, shuffle, class_weight, sample_weight, initial_epoch, steps_per_epoch, validation_steps, validation_freq, **kwargs)\u001b[0m\n\u001b[0;32m    368\u001b[0m                       \u001b[0mmode\u001b[0m\u001b[1;33m=\u001b[0m\u001b[0mModeKeys\u001b[0m\u001b[1;33m.\u001b[0m\u001b[0mTEST\u001b[0m\u001b[1;33m,\u001b[0m\u001b[1;33m\u001b[0m\u001b[1;33m\u001b[0m\u001b[0m\n\u001b[0;32m    369\u001b[0m                       \u001b[0mtraining_context\u001b[0m\u001b[1;33m=\u001b[0m\u001b[0meval_context\u001b[0m\u001b[1;33m,\u001b[0m\u001b[1;33m\u001b[0m\u001b[1;33m\u001b[0m\u001b[0m\n\u001b[1;32m--> 370\u001b[1;33m                       total_epochs=1)\n\u001b[0m\u001b[0;32m    371\u001b[0m                   cbks.make_logs(model, epoch_logs, eval_result, ModeKeys.TEST,\n\u001b[0;32m    372\u001b[0m                                  prefix='val_')\n",
      "\u001b[1;32m~\\Anaconda3\\lib\\site-packages\\tensorflow_core\\python\\keras\\engine\\training_v2.py\u001b[0m in \u001b[0;36mrun_one_epoch\u001b[1;34m(model, iterator, execution_function, dataset_size, batch_size, strategy, steps_per_epoch, num_samples, mode, training_context, total_epochs)\u001b[0m\n\u001b[0;32m    121\u001b[0m         step=step, mode=mode, size=current_batch_size) as batch_logs:\n\u001b[0;32m    122\u001b[0m       \u001b[1;32mtry\u001b[0m\u001b[1;33m:\u001b[0m\u001b[1;33m\u001b[0m\u001b[1;33m\u001b[0m\u001b[0m\n\u001b[1;32m--> 123\u001b[1;33m         \u001b[0mbatch_outs\u001b[0m \u001b[1;33m=\u001b[0m \u001b[0mexecution_function\u001b[0m\u001b[1;33m(\u001b[0m\u001b[0miterator\u001b[0m\u001b[1;33m)\u001b[0m\u001b[1;33m\u001b[0m\u001b[1;33m\u001b[0m\u001b[0m\n\u001b[0m\u001b[0;32m    124\u001b[0m       \u001b[1;32mexcept\u001b[0m \u001b[1;33m(\u001b[0m\u001b[0mStopIteration\u001b[0m\u001b[1;33m,\u001b[0m \u001b[0merrors\u001b[0m\u001b[1;33m.\u001b[0m\u001b[0mOutOfRangeError\u001b[0m\u001b[1;33m)\u001b[0m\u001b[1;33m:\u001b[0m\u001b[1;33m\u001b[0m\u001b[1;33m\u001b[0m\u001b[0m\n\u001b[0;32m    125\u001b[0m         \u001b[1;31m# TODO(kaftan): File bug about tf function and errors.OutOfRangeError?\u001b[0m\u001b[1;33m\u001b[0m\u001b[1;33m\u001b[0m\u001b[1;33m\u001b[0m\u001b[0m\n",
      "\u001b[1;32m~\\Anaconda3\\lib\\site-packages\\tensorflow_core\\python\\keras\\engine\\training_v2_utils.py\u001b[0m in \u001b[0;36mexecution_function\u001b[1;34m(input_fn)\u001b[0m\n\u001b[0;32m     84\u001b[0m     \u001b[1;31m# `numpy` translates Tensors to values in Eager mode.\u001b[0m\u001b[1;33m\u001b[0m\u001b[1;33m\u001b[0m\u001b[1;33m\u001b[0m\u001b[0m\n\u001b[0;32m     85\u001b[0m     return nest.map_structure(_non_none_constant_value,\n\u001b[1;32m---> 86\u001b[1;33m                               distributed_function(input_fn))\n\u001b[0m\u001b[0;32m     87\u001b[0m \u001b[1;33m\u001b[0m\u001b[0m\n\u001b[0;32m     88\u001b[0m   \u001b[1;32mreturn\u001b[0m \u001b[0mexecution_function\u001b[0m\u001b[1;33m\u001b[0m\u001b[1;33m\u001b[0m\u001b[0m\n",
      "\u001b[1;32m~\\Anaconda3\\lib\\site-packages\\tensorflow_core\\python\\eager\\def_function.py\u001b[0m in \u001b[0;36m__call__\u001b[1;34m(self, *args, **kwds)\u001b[0m\n\u001b[0;32m    455\u001b[0m \u001b[1;33m\u001b[0m\u001b[0m\n\u001b[0;32m    456\u001b[0m     \u001b[0mtracing_count\u001b[0m \u001b[1;33m=\u001b[0m \u001b[0mself\u001b[0m\u001b[1;33m.\u001b[0m\u001b[0m_get_tracing_count\u001b[0m\u001b[1;33m(\u001b[0m\u001b[1;33m)\u001b[0m\u001b[1;33m\u001b[0m\u001b[1;33m\u001b[0m\u001b[0m\n\u001b[1;32m--> 457\u001b[1;33m     \u001b[0mresult\u001b[0m \u001b[1;33m=\u001b[0m \u001b[0mself\u001b[0m\u001b[1;33m.\u001b[0m\u001b[0m_call\u001b[0m\u001b[1;33m(\u001b[0m\u001b[1;33m*\u001b[0m\u001b[0margs\u001b[0m\u001b[1;33m,\u001b[0m \u001b[1;33m**\u001b[0m\u001b[0mkwds\u001b[0m\u001b[1;33m)\u001b[0m\u001b[1;33m\u001b[0m\u001b[1;33m\u001b[0m\u001b[0m\n\u001b[0m\u001b[0;32m    458\u001b[0m     \u001b[1;32mif\u001b[0m \u001b[0mtracing_count\u001b[0m \u001b[1;33m==\u001b[0m \u001b[0mself\u001b[0m\u001b[1;33m.\u001b[0m\u001b[0m_get_tracing_count\u001b[0m\u001b[1;33m(\u001b[0m\u001b[1;33m)\u001b[0m\u001b[1;33m:\u001b[0m\u001b[1;33m\u001b[0m\u001b[1;33m\u001b[0m\u001b[0m\n\u001b[0;32m    459\u001b[0m       \u001b[0mself\u001b[0m\u001b[1;33m.\u001b[0m\u001b[0m_call_counter\u001b[0m\u001b[1;33m.\u001b[0m\u001b[0mcalled_without_tracing\u001b[0m\u001b[1;33m(\u001b[0m\u001b[1;33m)\u001b[0m\u001b[1;33m\u001b[0m\u001b[1;33m\u001b[0m\u001b[0m\n",
      "\u001b[1;32m~\\Anaconda3\\lib\\site-packages\\tensorflow_core\\python\\eager\\def_function.py\u001b[0m in \u001b[0;36m_call\u001b[1;34m(self, *args, **kwds)\u001b[0m\n\u001b[0;32m    492\u001b[0m       \u001b[1;31m# In this case we have not created variables on the first call. So we can\u001b[0m\u001b[1;33m\u001b[0m\u001b[1;33m\u001b[0m\u001b[1;33m\u001b[0m\u001b[0m\n\u001b[0;32m    493\u001b[0m       \u001b[1;31m# run the first trace but we should fail if variables are created.\u001b[0m\u001b[1;33m\u001b[0m\u001b[1;33m\u001b[0m\u001b[1;33m\u001b[0m\u001b[0m\n\u001b[1;32m--> 494\u001b[1;33m       \u001b[0mresults\u001b[0m \u001b[1;33m=\u001b[0m \u001b[0mself\u001b[0m\u001b[1;33m.\u001b[0m\u001b[0m_stateful_fn\u001b[0m\u001b[1;33m(\u001b[0m\u001b[1;33m*\u001b[0m\u001b[0margs\u001b[0m\u001b[1;33m,\u001b[0m \u001b[1;33m**\u001b[0m\u001b[0mkwds\u001b[0m\u001b[1;33m)\u001b[0m\u001b[1;33m\u001b[0m\u001b[1;33m\u001b[0m\u001b[0m\n\u001b[0m\u001b[0;32m    495\u001b[0m       \u001b[1;32mif\u001b[0m \u001b[0mself\u001b[0m\u001b[1;33m.\u001b[0m\u001b[0m_created_variables\u001b[0m\u001b[1;33m:\u001b[0m\u001b[1;33m\u001b[0m\u001b[1;33m\u001b[0m\u001b[0m\n\u001b[0;32m    496\u001b[0m         raise ValueError(\"Creating variables on a non-first call to a function\"\n",
      "\u001b[1;32m~\\Anaconda3\\lib\\site-packages\\tensorflow_core\\python\\eager\\function.py\u001b[0m in \u001b[0;36m__call__\u001b[1;34m(self, *args, **kwargs)\u001b[0m\n\u001b[0;32m   1821\u001b[0m     \u001b[1;34m\"\"\"Calls a graph function specialized to the inputs.\"\"\"\u001b[0m\u001b[1;33m\u001b[0m\u001b[1;33m\u001b[0m\u001b[0m\n\u001b[0;32m   1822\u001b[0m     \u001b[0mgraph_function\u001b[0m\u001b[1;33m,\u001b[0m \u001b[0margs\u001b[0m\u001b[1;33m,\u001b[0m \u001b[0mkwargs\u001b[0m \u001b[1;33m=\u001b[0m \u001b[0mself\u001b[0m\u001b[1;33m.\u001b[0m\u001b[0m_maybe_define_function\u001b[0m\u001b[1;33m(\u001b[0m\u001b[0margs\u001b[0m\u001b[1;33m,\u001b[0m \u001b[0mkwargs\u001b[0m\u001b[1;33m)\u001b[0m\u001b[1;33m\u001b[0m\u001b[1;33m\u001b[0m\u001b[0m\n\u001b[1;32m-> 1823\u001b[1;33m     \u001b[1;32mreturn\u001b[0m \u001b[0mgraph_function\u001b[0m\u001b[1;33m.\u001b[0m\u001b[0m_filtered_call\u001b[0m\u001b[1;33m(\u001b[0m\u001b[0margs\u001b[0m\u001b[1;33m,\u001b[0m \u001b[0mkwargs\u001b[0m\u001b[1;33m)\u001b[0m  \u001b[1;31m# pylint: disable=protected-access\u001b[0m\u001b[1;33m\u001b[0m\u001b[1;33m\u001b[0m\u001b[0m\n\u001b[0m\u001b[0;32m   1824\u001b[0m \u001b[1;33m\u001b[0m\u001b[0m\n\u001b[0;32m   1825\u001b[0m   \u001b[1;33m@\u001b[0m\u001b[0mproperty\u001b[0m\u001b[1;33m\u001b[0m\u001b[1;33m\u001b[0m\u001b[0m\n",
      "\u001b[1;32m~\\Anaconda3\\lib\\site-packages\\tensorflow_core\\python\\eager\\function.py\u001b[0m in \u001b[0;36m_filtered_call\u001b[1;34m(self, args, kwargs)\u001b[0m\n\u001b[0;32m   1139\u001b[0m          if isinstance(t, (ops.Tensor,\n\u001b[0;32m   1140\u001b[0m                            resource_variable_ops.BaseResourceVariable))),\n\u001b[1;32m-> 1141\u001b[1;33m         self.captured_inputs)\n\u001b[0m\u001b[0;32m   1142\u001b[0m \u001b[1;33m\u001b[0m\u001b[0m\n\u001b[0;32m   1143\u001b[0m   \u001b[1;32mdef\u001b[0m \u001b[0m_call_flat\u001b[0m\u001b[1;33m(\u001b[0m\u001b[0mself\u001b[0m\u001b[1;33m,\u001b[0m \u001b[0margs\u001b[0m\u001b[1;33m,\u001b[0m \u001b[0mcaptured_inputs\u001b[0m\u001b[1;33m,\u001b[0m \u001b[0mcancellation_manager\u001b[0m\u001b[1;33m=\u001b[0m\u001b[1;32mNone\u001b[0m\u001b[1;33m)\u001b[0m\u001b[1;33m:\u001b[0m\u001b[1;33m\u001b[0m\u001b[1;33m\u001b[0m\u001b[0m\n",
      "\u001b[1;32m~\\Anaconda3\\lib\\site-packages\\tensorflow_core\\python\\eager\\function.py\u001b[0m in \u001b[0;36m_call_flat\u001b[1;34m(self, args, captured_inputs, cancellation_manager)\u001b[0m\n\u001b[0;32m   1222\u001b[0m     \u001b[1;32mif\u001b[0m \u001b[0mexecuting_eagerly\u001b[0m\u001b[1;33m:\u001b[0m\u001b[1;33m\u001b[0m\u001b[1;33m\u001b[0m\u001b[0m\n\u001b[0;32m   1223\u001b[0m       flat_outputs = forward_function.call(\n\u001b[1;32m-> 1224\u001b[1;33m           ctx, args, cancellation_manager=cancellation_manager)\n\u001b[0m\u001b[0;32m   1225\u001b[0m     \u001b[1;32melse\u001b[0m\u001b[1;33m:\u001b[0m\u001b[1;33m\u001b[0m\u001b[1;33m\u001b[0m\u001b[0m\n\u001b[0;32m   1226\u001b[0m       \u001b[0mgradient_name\u001b[0m \u001b[1;33m=\u001b[0m \u001b[0mself\u001b[0m\u001b[1;33m.\u001b[0m\u001b[0m_delayed_rewrite_functions\u001b[0m\u001b[1;33m.\u001b[0m\u001b[0mregister\u001b[0m\u001b[1;33m(\u001b[0m\u001b[1;33m)\u001b[0m\u001b[1;33m\u001b[0m\u001b[1;33m\u001b[0m\u001b[0m\n",
      "\u001b[1;32m~\\Anaconda3\\lib\\site-packages\\tensorflow_core\\python\\eager\\function.py\u001b[0m in \u001b[0;36mcall\u001b[1;34m(self, ctx, args, cancellation_manager)\u001b[0m\n\u001b[0;32m    509\u001b[0m               \u001b[0minputs\u001b[0m\u001b[1;33m=\u001b[0m\u001b[0margs\u001b[0m\u001b[1;33m,\u001b[0m\u001b[1;33m\u001b[0m\u001b[1;33m\u001b[0m\u001b[0m\n\u001b[0;32m    510\u001b[0m               \u001b[0mattrs\u001b[0m\u001b[1;33m=\u001b[0m\u001b[1;33m(\u001b[0m\u001b[1;34m\"executor_type\"\u001b[0m\u001b[1;33m,\u001b[0m \u001b[0mexecutor_type\u001b[0m\u001b[1;33m,\u001b[0m \u001b[1;34m\"config_proto\"\u001b[0m\u001b[1;33m,\u001b[0m \u001b[0mconfig\u001b[0m\u001b[1;33m)\u001b[0m\u001b[1;33m,\u001b[0m\u001b[1;33m\u001b[0m\u001b[1;33m\u001b[0m\u001b[0m\n\u001b[1;32m--> 511\u001b[1;33m               ctx=ctx)\n\u001b[0m\u001b[0;32m    512\u001b[0m         \u001b[1;32melse\u001b[0m\u001b[1;33m:\u001b[0m\u001b[1;33m\u001b[0m\u001b[1;33m\u001b[0m\u001b[0m\n\u001b[0;32m    513\u001b[0m           outputs = execute.execute_with_cancellation(\n",
      "\u001b[1;32m~\\Anaconda3\\lib\\site-packages\\tensorflow_core\\python\\eager\\execute.py\u001b[0m in \u001b[0;36mquick_execute\u001b[1;34m(op_name, num_outputs, inputs, attrs, ctx, name)\u001b[0m\n\u001b[0;32m     59\u001b[0m     tensors = pywrap_tensorflow.TFE_Py_Execute(ctx._handle, device_name,\n\u001b[0;32m     60\u001b[0m                                                \u001b[0mop_name\u001b[0m\u001b[1;33m,\u001b[0m \u001b[0minputs\u001b[0m\u001b[1;33m,\u001b[0m \u001b[0mattrs\u001b[0m\u001b[1;33m,\u001b[0m\u001b[1;33m\u001b[0m\u001b[1;33m\u001b[0m\u001b[0m\n\u001b[1;32m---> 61\u001b[1;33m                                                num_outputs)\n\u001b[0m\u001b[0;32m     62\u001b[0m   \u001b[1;32mexcept\u001b[0m \u001b[0mcore\u001b[0m\u001b[1;33m.\u001b[0m\u001b[0m_NotOkStatusException\u001b[0m \u001b[1;32mas\u001b[0m \u001b[0me\u001b[0m\u001b[1;33m:\u001b[0m\u001b[1;33m\u001b[0m\u001b[1;33m\u001b[0m\u001b[0m\n\u001b[0;32m     63\u001b[0m     \u001b[1;32mif\u001b[0m \u001b[0mname\u001b[0m \u001b[1;32mis\u001b[0m \u001b[1;32mnot\u001b[0m \u001b[1;32mNone\u001b[0m\u001b[1;33m:\u001b[0m\u001b[1;33m\u001b[0m\u001b[1;33m\u001b[0m\u001b[0m\n",
      "\u001b[1;31mKeyboardInterrupt\u001b[0m: "
     ]
    }
   ],
   "source": [
    "# Build CNN model \n",
    "model = get_2d_conv_model(n=n_mfcc)\n",
    "model_history = model.fit(X_train2, y_train2, validation_data=(X_test2, y_test2), \n",
    "                    batch_size=16, verbose = 2, epochs=40)"
   ]
  },
  {
   "cell_type": "code",
   "execution_count": 255,
   "metadata": {},
   "outputs": [
    {
     "name": "stdout",
     "output_type": "stream",
     "text": [
      "Saved model to disk\n"
     ]
    }
   ],
   "source": [
    "\n",
    "\n",
    " \n",
    "# serialize model to JSON\n",
    "model_json = model.to_json()\n",
    "with open(\"model_2nd_level_classification_negative2.json\", \"w\") as json_file:\n",
    "    json_file.write(model_json)\n",
    "# serialize weights to HDF5\n",
    "model.save_weights(\"model21_2.h5\")\n",
    "print(\"Saved model to disk\")"
   ]
  },
  {
   "cell_type": "code",
   "execution_count": 64,
   "metadata": {},
   "outputs": [
    {
     "name": "stdout",
     "output_type": "stream",
     "text": [
      "Loaded model from disk\n",
      "accuracy: 99.28%\n"
     ]
    }
   ],
   "source": [
    "# load json and create model\n",
    "json_file = open('model_2nd_level_classification_negative.json', 'r')\n",
    "loaded_model_json = json_file.read()\n",
    "json_file.close()\n",
    "loaded_model = model_from_json(loaded_model_json)\n",
    "# load weights into new model\n",
    "loaded_model.load_weights(\"model21.h5\")\n",
    "print(\"Loaded model from disk\")\n",
    " \n",
    "# evaluate loaded model on test data\n",
    "loaded_model.compile(loss='binary_crossentropy', optimizer='rmsprop', metrics=['accuracy'])\n",
    "score = loaded_model.evaluate(X_test2, y_test2, verbose=0)\n",
    "print(\"%s: %.2f%%\" % (loaded_model.metrics_names[1], score[1]*100))"
   ]
  },
  {
   "cell_type": "code",
   "execution_count": 65,
   "metadata": {},
   "outputs": [
    {
     "name": "stdout",
     "output_type": "stream",
     "text": [
      "77/1 - 2s\n",
      "Accurcy =  0.961038961038961\n",
      "Precision score =  0.9504225932797361\n",
      "Recall score =  0.961038961038961\n",
      "F1 score =  0.9546684252566606\n"
     ]
    }
   ],
   "source": [
    "preds = loaded_model.predict(X_test2, \n",
    "                         batch_size=16, \n",
    "                         verbose=2)\n",
    "preds=preds.argmax(axis=1)\n",
    "#preds = preds.astype(int).flatten()\n",
    "preds = (lb.inverse_transform((preds)))\n",
    "\n",
    "actual = y_test2.argmax(axis=1)\n",
    "#actual = actual.astype(int).flatten()\n",
    "actual = (lb.inverse_transform((actual)))\n",
    "\n",
    "\n",
    "accu1=accuracy_score(actual, preds)\n",
    "print(\"Accurcy = \", accu1)\n",
    "pres1=precision_score(actual, preds, average='weighted')\n",
    "print(\"Precision score = \", pres1)\n",
    "rec1=recall_score(actual, preds, average='weighted')\n",
    "print(\"Recall score = \", rec1)\n",
    "f1s=f1_score(actual, preds, average='weighted')\n",
    "print(\"F1 score = \", f1s)\n",
    "       "
   ]
  },
  {
   "cell_type": "code",
   "execution_count": 68,
   "metadata": {},
   "outputs": [],
   "source": [
    "from tensorflow.compat.v1 import ConfigProto\n",
    "from tensorflow.compat.v1 import InteractiveSession\n",
    "\n",
    "config = ConfigProto()\n",
    "config.gpu_options.allow_growth = True\n",
    "session = InteractiveSession(config=config)\n",
    "# Split between train and test \n",
    "X_train3, X_test3, y_train3, y_test3 = train_test_split(pos_x\n",
    "                                                    , pos_true_y_modified\n",
    "                                                    , test_size=0.1\n",
    "                                                    , shuffle=True\n",
    "                                                    , random_state=0\n",
    "                                                   )\n",
    "\n",
    "\n",
    "# one hot encode the target \n",
    "lb = LabelEncoder()\n",
    "y_train3 = np_utils.to_categorical(lb.fit_transform(y_train3))\n",
    "y_test3 = np_utils.to_categorical(lb.fit_transform(y_test3))\n",
    "\n",
    "# Normalization as per the standard NN process\n",
    "mean = np.mean(X_train3, axis=0)\n",
    "std = np.std(X_train3, axis=0)\n",
    "\n",
    "X_train3 = (X_train3 - mean)/std\n",
    "X_test3 = (X_test3 - mean)/std"
   ]
  },
  {
   "cell_type": "code",
   "execution_count": 320,
   "metadata": {},
   "outputs": [
    {
     "name": "stdout",
     "output_type": "stream",
     "text": [
      "Train on 606 samples, validate on 68 samples\n",
      "Epoch 1/30\n",
      "606/606 - 38s - loss: 1.7877 - acc: 0.3168 - val_loss: 1.5209 - val_acc: 0.3235\n",
      "Epoch 2/30\n",
      "606/606 - 32s - loss: 1.3489 - acc: 0.4983 - val_loss: 1.2049 - val_acc: 0.5588\n",
      "Epoch 3/30\n",
      "606/606 - 31s - loss: 1.1550 - acc: 0.6040 - val_loss: 1.6244 - val_acc: 0.4706\n",
      "Epoch 4/30\n",
      "606/606 - 36s - loss: 1.0200 - acc: 0.6073 - val_loss: 1.7684 - val_acc: 0.3971\n",
      "Epoch 5/30\n",
      "606/606 - 34s - loss: 0.8881 - acc: 0.6683 - val_loss: 1.8456 - val_acc: 0.3971\n",
      "Epoch 6/30\n",
      "606/606 - 35s - loss: 0.8563 - acc: 0.7046 - val_loss: 1.9050 - val_acc: 0.3529\n",
      "Epoch 7/30\n",
      "606/606 - 36s - loss: 0.7683 - acc: 0.7244 - val_loss: 1.1714 - val_acc: 0.5735\n",
      "Epoch 8/30\n",
      "606/606 - 36s - loss: 0.6720 - acc: 0.7673 - val_loss: 1.0932 - val_acc: 0.5735\n",
      "Epoch 9/30\n",
      "606/606 - 37s - loss: 0.6024 - acc: 0.8069 - val_loss: 1.0359 - val_acc: 0.6324\n",
      "Epoch 10/30\n",
      "606/606 - 31s - loss: 0.6204 - acc: 0.7921 - val_loss: 1.5563 - val_acc: 0.5000\n",
      "Epoch 11/30\n",
      "606/606 - 26s - loss: 0.5263 - acc: 0.8201 - val_loss: 1.0682 - val_acc: 0.6324\n",
      "Epoch 12/30\n",
      "606/606 - 25s - loss: 0.4372 - acc: 0.8564 - val_loss: 0.7690 - val_acc: 0.7647\n",
      "Epoch 13/30\n",
      "606/606 - 24s - loss: 0.4371 - acc: 0.8515 - val_loss: 0.6563 - val_acc: 0.7647\n",
      "Epoch 14/30\n",
      "606/606 - 25s - loss: 0.3979 - acc: 0.8581 - val_loss: 0.4908 - val_acc: 0.8382\n",
      "Epoch 15/30\n",
      "606/606 - 26s - loss: 0.4272 - acc: 0.8647 - val_loss: 0.7521 - val_acc: 0.7500\n",
      "Epoch 16/30\n",
      "606/606 - 26s - loss: 0.3655 - acc: 0.8911 - val_loss: 0.5046 - val_acc: 0.7941\n",
      "Epoch 17/30\n",
      "606/606 - 26s - loss: 0.3467 - acc: 0.8828 - val_loss: 0.4797 - val_acc: 0.8235\n",
      "Epoch 18/30\n",
      "606/606 - 26s - loss: 0.2717 - acc: 0.9241 - val_loss: 0.3836 - val_acc: 0.8676\n",
      "Epoch 19/30\n",
      "606/606 - 26s - loss: 0.2374 - acc: 0.9340 - val_loss: 0.4912 - val_acc: 0.8235\n",
      "Epoch 20/30\n",
      "606/606 - 26s - loss: 0.2117 - acc: 0.9439 - val_loss: 0.4599 - val_acc: 0.8235\n",
      "Epoch 21/30\n",
      "606/606 - 24s - loss: 0.1996 - acc: 0.9290 - val_loss: 0.6504 - val_acc: 0.7647\n",
      "Epoch 22/30\n",
      "606/606 - 25s - loss: 0.2483 - acc: 0.9340 - val_loss: 0.5586 - val_acc: 0.8676\n",
      "Epoch 23/30\n",
      "606/606 - 25s - loss: 0.2276 - acc: 0.9175 - val_loss: 0.6892 - val_acc: 0.8088\n",
      "Epoch 24/30\n",
      "606/606 - 26s - loss: 0.1830 - acc: 0.9373 - val_loss: 0.4470 - val_acc: 0.8235\n",
      "Epoch 25/30\n",
      "606/606 - 26s - loss: 0.1747 - acc: 0.9554 - val_loss: 0.3191 - val_acc: 0.8971\n",
      "Epoch 26/30\n",
      "606/606 - 26s - loss: 0.1769 - acc: 0.9439 - val_loss: 0.3734 - val_acc: 0.9118\n",
      "Epoch 27/30\n",
      "606/606 - 26s - loss: 0.1556 - acc: 0.9604 - val_loss: 0.5706 - val_acc: 0.8382\n",
      "Epoch 28/30\n",
      "606/606 - 25s - loss: 0.1418 - acc: 0.9571 - val_loss: 0.6373 - val_acc: 0.8088\n",
      "Epoch 29/30\n",
      "606/606 - 26s - loss: 0.1293 - acc: 0.9620 - val_loss: 0.5239 - val_acc: 0.8235\n",
      "Epoch 30/30\n",
      "606/606 - 25s - loss: 0.0944 - acc: 0.9868 - val_loss: 0.2709 - val_acc: 0.8971\n"
     ]
    }
   ],
   "source": [
    "# Build CNN model \n",
    "model = get_2d_conv_model(n=n_mfcc)\n",
    "model_history = model.fit(X_train3, y_train3, validation_data=(X_test3, y_test3), \n",
    "                    batch_size=16, verbose = 2, epochs=30)"
   ]
  },
  {
   "cell_type": "code",
   "execution_count": 319,
   "metadata": {},
   "outputs": [
    {
     "data": {
      "text/plain": [
       "array(['female_calm', 'female_happy', 'female_surprise', 'male_calm',\n",
       "       'male_happy', 'male_surprise', 'other'], dtype='<U32')"
      ]
     },
     "execution_count": 319,
     "metadata": {},
     "output_type": "execute_result"
    }
   ],
   "source": [
    "np.unique(pos_true_y_modified)"
   ]
  },
  {
   "cell_type": "code",
   "execution_count": 321,
   "metadata": {},
   "outputs": [
    {
     "name": "stdout",
     "output_type": "stream",
     "text": [
      "Saved model to disk\n"
     ]
    }
   ],
   "source": [
    " \n",
    "# serialize model to JSON\n",
    "model_json = model.to_json()\n",
    "with open(\"model_2nd_level_classification_positive.json\", \"w\") as json_file:\n",
    "    json_file.write(model_json)\n",
    "# serialize weights to HDF5\n",
    "model.save_weights(\"model22.h5\")\n",
    "print(\"Saved model to disk\")"
   ]
  },
  {
   "cell_type": "code",
   "execution_count": 69,
   "metadata": {},
   "outputs": [
    {
     "name": "stdout",
     "output_type": "stream",
     "text": [
      "Loaded model from disk\n",
      "accuracy: 97.48%\n"
     ]
    }
   ],
   "source": [
    " \n",
    "# load json and create model\n",
    "json_file = open('model_2nd_level_classification_positive.json', 'r')\n",
    "loaded_model_json = json_file.read()\n",
    "json_file.close()\n",
    "loaded_model = model_from_json(loaded_model_json)\n",
    "# load weights into new model\n",
    "loaded_model.load_weights(\"model22.h5\")\n",
    "print(\"Loaded model from disk\")\n",
    " \n",
    "# evaluate loaded model on test data\n",
    "loaded_model.compile(loss='binary_crossentropy', optimizer='rmsprop', metrics=['accuracy'])\n",
    "score = loaded_model.evaluate(X_test3, y_test3, verbose=0)\n",
    "print(\"%s: %.2f%%\" % (loaded_model.metrics_names[1], score[1]*100))\n"
   ]
  },
  {
   "cell_type": "code",
   "execution_count": 70,
   "metadata": {},
   "outputs": [
    {
     "name": "stdout",
     "output_type": "stream",
     "text": [
      "68/1 - 2s\n",
      "Accurcy =  0.8970588235294118\n",
      "Precision score =  0.8893288084464555\n",
      "Recall score =  0.8970588235294118\n",
      "F1 score =  0.8879488502553519\n"
     ]
    }
   ],
   "source": [
    "preds = loaded_model.predict(X_test3, \n",
    "                         batch_size=16, \n",
    "                         verbose=2)\n",
    "preds=preds.argmax(axis=1)\n",
    "#preds = preds.astype(int).flatten()\n",
    "preds = (lb.inverse_transform((preds)))\n",
    "\n",
    "actual = y_test3.argmax(axis=1)\n",
    "#actual = actual.astype(int).flatten()\n",
    "actual = (lb.inverse_transform((actual)))\n",
    "\n",
    "\n",
    "accu1=accuracy_score(actual, preds)\n",
    "print(\"Accurcy = \", accu1)\n",
    "pres1=precision_score(actual, preds, average='weighted')\n",
    "print(\"Precision score = \", pres1)\n",
    "rec1=recall_score(actual, preds, average='weighted')\n",
    "print(\"Recall score = \", rec1)\n",
    "f1s=f1_score(actual, preds, average='weighted')\n",
    "print(\"F1 score = \", f1s)\n",
    "       "
   ]
  },
  {
   "cell_type": "code",
   "execution_count": null,
   "metadata": {},
   "outputs": [],
   "source": []
  }
 ],
 "metadata": {
  "kernelspec": {
   "display_name": "Python 3",
   "language": "python",
   "name": "python3"
  },
  "language_info": {
   "codemirror_mode": {
    "name": "ipython",
    "version": 3
   },
   "file_extension": ".py",
   "mimetype": "text/x-python",
   "name": "python",
   "nbconvert_exporter": "python",
   "pygments_lexer": "ipython3",
   "version": "3.7.4"
  }
 },
 "nbformat": 4,
 "nbformat_minor": 2
}
